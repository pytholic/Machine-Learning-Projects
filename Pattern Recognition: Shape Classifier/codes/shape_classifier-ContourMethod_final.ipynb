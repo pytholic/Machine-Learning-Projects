{
 "cells": [
  {
   "cell_type": "markdown",
   "metadata": {},
   "source": [
    "# Import Libraries"
   ]
  },
  {
   "cell_type": "code",
   "execution_count": 1,
   "metadata": {},
   "outputs": [],
   "source": [
    "import cv2\n",
    "import numpy as np\n",
    "import os\n",
    "import imutils\n",
    "\n",
    "from matplotlib import pyplot as plt\n",
    "%matplotlib inline\n"
   ]
  },
  {
   "cell_type": "markdown",
   "metadata": {},
   "source": [
    "# Preprocessing"
   ]
  },
  {
   "cell_type": "code",
   "execution_count": 2,
   "metadata": {},
   "outputs": [],
   "source": [
    "#create lists to save the labels (the name of the shape)\n",
    "train_dir = '/home/trojan/Desktop/pattern recognition/PB1/Implementation/data/shapes'\n",
    "shape_list = ['circle', 'triangle', 'tetragon', 'pentagon', 'other']"
   ]
  },
  {
   "cell_type": "markdown",
   "metadata": {},
   "source": [
    "## Helper functions"
   ]
  },
  {
   "cell_type": "code",
   "execution_count": 3,
   "metadata": {},
   "outputs": [],
   "source": [
    "class ShapeDetector:\n",
    "    def __init__(self):\n",
    "        pass\n",
    "    def detect(self, c):\n",
    "        # initialize the shape name and approximate the contour\n",
    "        shape = \"unidentified\"\n",
    "        approx = cv2.approxPolyDP(contour, 0.01 * cv2.arcLength(contour, True), True)\n",
    "        \n",
    "        if 5 < len(approx) < 10:\n",
    "            shape = \"other\"    \n",
    "        # if the shape is a triangle, it will have 3 vertices\n",
    "        if len(approx) == 3:\n",
    "            shape = \"triangle\" \n",
    "        # if the shape has 4 vertices, it is a tetragon\n",
    "        elif len(approx) == 4:\n",
    "            shape = \"tetragon\" \n",
    "        # if the shape is a pentagon, it will have 5 vertices\n",
    "        elif len(approx) == 5:\n",
    "            shape = \"pentagon\" \n",
    "        # otherwise, we assume the shape is other\n",
    "        elif len(approx) > 10:\n",
    "            shape = \"circle\"\n",
    "            \n",
    "        return shape, approx"
   ]
  },
  {
   "cell_type": "markdown",
   "metadata": {},
   "source": [
    "# Training"
   ]
  },
  {
   "cell_type": "code",
   "execution_count": 4,
   "metadata": {},
   "outputs": [
    {
     "name": "stdout",
     "output_type": "stream",
     "text": [
      "Getting data for:  circle\n",
      "Getting data for:  triangle\n",
      "Getting data for:  tetragon\n",
      "Getting data for:  pentagon\n",
      "Getting data for:  other\n"
     ]
    }
   ],
   "source": [
    "#iterate through each shape\n",
    "all_labels, all_images = [],[]\n",
    "for shape in shape_list:\n",
    "    print('Getting data for: ', shape)\n",
    "    for file_name in os.listdir(os.path.join(train_dir,shape)):\n",
    "        all_images.append(cv2.imread(os.path.join(train_dir,shape,file_name), 1))\n",
    "        #add an integer to the labels list\n",
    "        all_labels.append(shape)"
   ]
  },
  {
   "cell_type": "code",
   "execution_count": 5,
   "metadata": {},
   "outputs": [
    {
     "data": {
      "text/plain": [
       "<matplotlib.image.AxesImage at 0x7f4e9e8c6e48>"
      ]
     },
     "execution_count": 5,
     "metadata": {},
     "output_type": "execute_result"
    },
    {
     "data": {
      "image/png": "[encoded data removed]",
      "text/plain": [
       "<Figure size 432x288 with 1 Axes>"
      ]
     },
     "metadata": {
      "needs_background": "light"
     },
     "output_type": "display_data"
    }
   ],
   "source": [
    "plt.imshow(all_images[0])"
   ]
  },
  {
   "cell_type": "code",
   "execution_count": 6,
   "metadata": {},
   "outputs": [
    {
     "name": "stdout",
     "output_type": "stream",
     "text": [
      "['circle', 'circle', 'circle', 'circle', 'circle', 'triangle', 'triangle', 'triangle', 'triangle', 'triangle', 'tetragon', 'tetragon', 'tetragon', 'tetragon', 'tetragon', 'pentagon', 'pentagon', 'pentagon', 'pentagon', 'pentagon', 'other', 'other', 'other', 'other', 'other']\n"
     ]
    }
   ],
   "source": [
    "print(all_labels)"
   ]
  },
  {
   "cell_type": "code",
   "execution_count": 7,
   "metadata": {},
   "outputs": [],
   "source": [
    "pred_labels = []\n",
    "\n",
    "for img in all_images:\n",
    "    \n",
    "    #resized = imutils.resize(image, width=300)\n",
    "    #ratio = image.shape[0] / float(resized.shape[0])\n",
    "    # Find Canny edges \n",
    "    gray = cv2.cvtColor(img, cv2.COLOR_BGR2GRAY)\n",
    "    _, thresh = cv2.threshold(gray, 240, 255, cv2.THRESH_BINARY)\n",
    "    #blurred = cv2.GaussianBlur(gray, (5, 5), 0)\n",
    "    #thresh = cv2.threshold(blurred, 60, 255, cv2.THRESH_BINARY)[1]\n",
    "    \n",
    "    #edged = cv2.Canny(thresh, 30, 200) \n",
    "\n",
    "    contours, _ = cv2.findContours(thresh.copy(), cv2.RETR_TREE, cv2.CHAIN_APPROX_NONE)\n",
    "    #contour = imutils.grab_contours(contour)\n",
    "    sd = ShapeDetector()\n",
    "    \n",
    "    for contour in contours:\n",
    "        shape, approx = sd.detect(contour)\n",
    "        #pred_labels.append(shape)\n",
    "        #approx = cv2.approxPolyDP(contour, 0.01 * cv2.arcLength(contour, True), True)\n",
    "        cv2.drawContours(img, [approx], 0, (0, 255, 0), 2)\n",
    "        x = approx.ravel()[0]\n",
    "        y = approx.ravel()[1] - 5\n",
    "         \n",
    "        # then draw the contours and the name of the shape on the image\n",
    "        #c = c.astype(\"float\")\n",
    "        #c *= ratio\n",
    "        #c = c.astype(\"int\")\n",
    "        \n",
    "        cv2.putText(img, shape, (x, y), cv2.FONT_HERSHEY_SIMPLEX,\n",
    "            0.5, (0, 0, 0), 2)\n",
    "        # show the output image\n",
    "    pred_labels.append(shape)\n",
    "    cv2.imshow(\"Image\", img)\n",
    "    cv2.waitKey(0)\n",
    "    cv2.destroyAllWindows()\n",
    "    "
   ]
  },
  {
   "cell_type": "code",
   "execution_count": 8,
   "metadata": {
    "scrolled": true
   },
   "outputs": [
    {
     "name": "stdout",
     "output_type": "stream",
     "text": [
      "['circle', 'other', 'circle', 'circle', 'circle', 'tetragon', 'triangle', 'triangle', 'triangle', 'triangle', 'tetragon', 'tetragon', 'tetragon', 'tetragon', 'tetragon', 'pentagon', 'pentagon', 'pentagon', 'pentagon', 'pentagon', 'circle', 'circle', 'other', 'unidentified', 'circle']\n"
     ]
    }
   ],
   "source": [
    "print(pred_labels)"
   ]
  },
  {
   "cell_type": "code",
   "execution_count": 9,
   "metadata": {},
   "outputs": [
    {
     "name": "stdout",
     "output_type": "stream",
     "text": [
      "['circle', 'circle', 'circle', 'circle', 'circle', 'triangle', 'triangle', 'triangle', 'triangle', 'triangle', 'tetragon', 'tetragon', 'tetragon', 'tetragon', 'tetragon', 'pentagon', 'pentagon', 'pentagon', 'pentagon', 'pentagon', 'other', 'other', 'other', 'other', 'other']\n"
     ]
    }
   ],
   "source": [
    "print(all_labels)"
   ]
  },
  {
   "cell_type": "code",
   "execution_count": 21,
   "metadata": {},
   "outputs": [
    {
     "name": "stdout",
     "output_type": "stream",
     "text": [
      "19\n",
      "Accuracy = 76.0\n"
     ]
    }
   ],
   "source": [
    "SUM = 0\n",
    "pred_acc = 0\n",
    "\n",
    "for i in range(len(pred_labels)):\n",
    "    if pred_labels[i]==all_labels[i]:\n",
    "        SUM += 1\n",
    "\n",
    "pred_acc = SUM/len(all_labels)*100\n",
    "\n",
    "print(SUM)\n",
    "print(\"Accuracy = {}\".format(pred_acc))"
   ]
  },
  {
   "cell_type": "code",
   "execution_count": 49,
   "metadata": {},
   "outputs": [
    {
     "data": {
      "text/plain": [
       "'forTA (Do not erase here)\\ntest_dir = \\'../ForTA\\'\\ntest_labels, test_images = [], []\\nfor shape in shape_list:\\n    print(\\'Getting data for: \\', shape)\\n    for file_name in os.listdir(os.path.join(test_dir,shape)):\\n        test_images.append(cv2.imread(os.path.join(test_dir,shape,file_name), 0))\\n        #add an integer to the labels list\\n        test_labels.append(shape_list.index(shape))\\n\\nprint(\\'Number of test images: \\', len(test_images))\\n\\ntest_images, test_labels = preprocess(test_images, test_labels)\\npred_labels = model.predict(test_images)\\npred_acc = np.sum(pred_labels==test_labels)/len(test_labels)*100\\nprint(\"Test Accuracy = {}\".format(pred_acc))\\n'"
      ]
     },
     "execution_count": 49,
     "metadata": {},
     "output_type": "execute_result"
    }
   ],
   "source": [
    "\n",
    "    \"\"\"forTA (Do not erase here)\n",
    "    test_dir = '../ForTA'\n",
    "    test_labels, test_images = [], []\n",
    "    for shape in shape_list:\n",
    "        print('Getting data for: ', shape)\n",
    "        for file_name in os.listdir(os.path.join(test_dir,shape)):\n",
    "            test_images.append(cv2.imread(os.path.join(test_dir,shape,file_name), 0))\n",
    "            #add an integer to the labels list\n",
    "            test_labels.append(shape_list.index(shape))\n",
    "\n",
    "    print('Number of test images: ', len(test_images))\n",
    "\n",
    "    test_images, test_labels = preprocess(test_images, test_labels)\n",
    "    pred_labels = model.predict(test_images)\n",
    "    pred_acc = np.sum(pred_labels==test_labels)/len(test_labels)*100\n",
    "    print(\"Test Accuracy = {}\".format(pred_acc))\n",
    "    \"\"\"\n"
   ]
  },
  {
   "cell_type": "code",
   "execution_count": null,
   "metadata": {},
   "outputs": [],
   "source": []
  }
 ],
 "metadata": {
  "kernelspec": {
   "display_name": "Python 3",
   "language": "python",
   "name": "python3"
  },
  "language_info": {
   "codemirror_mode": {
    "name": "ipython",
    "version": 3
   },
   "file_extension": ".py",
   "mimetype": "text/x-python",
   "name": "python",
   "nbconvert_exporter": "python",
   "pygments_lexer": "ipython3",
   "version": "3.6.9"
  }
 },
 "nbformat": 4,
 "nbformat_minor": 4
}
