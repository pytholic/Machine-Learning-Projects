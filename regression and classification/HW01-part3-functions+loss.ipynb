{
 "cells": [
  {
   "cell_type": "markdown",
   "metadata": {},
   "source": [
    "# AI502/KSE527, Homework 01"
   ]
  },
  {
   "cell_type": "markdown",
   "metadata": {},
   "source": [
    "This file is made by Jaehoon Oh, which is modified based on https://github.com/floydhub/regression"
   ]
  },
  {
   "cell_type": "code",
   "execution_count": 1,
   "metadata": {},
   "outputs": [],
   "source": [
    "import torch\n",
    "import torch.nn as nn\n",
    "import torch.utils.data"
   ]
  },
  {
   "cell_type": "code",
   "execution_count": 2,
   "metadata": {},
   "outputs": [],
   "source": [
    "POLY_DEGREE = 4\n",
    "torch.manual_seed(2020)\n",
    "W_target = torch.randn(POLY_DEGREE, 1) * 5\n",
    "b_target = torch.randn(1) * 5"
   ]
  },
  {
   "cell_type": "code",
   "execution_count": 3,
   "metadata": {},
   "outputs": [],
   "source": [
    "def poly_desc(W, b):\n",
    "    \"\"\"Creates a string description of a polynomial.\"\"\"\n",
    "    result = ''\n",
    "    for i, w in enumerate(W):\n",
    "        result += '{:+.2f} x^{} '.format(w, len(W) - i)\n",
    "    result += '{:+.2f}'.format(b[0])\n",
    "    return result"
   ]
  },
  {
   "cell_type": "code",
   "execution_count": 4,
   "metadata": {},
   "outputs": [
    {
     "name": "stdout",
     "output_type": "stream",
     "text": [
      "==> The real function you should approximate:\t+6.19 x^4 -4.80 x^3 +7.71 x^2 -2.04 x^1 +4.40\n"
     ]
    }
   ],
   "source": [
    "print('==> The real function you should approximate:\\t' + poly_desc(W_target.view(-1), b_target))"
   ]
  },
  {
   "cell_type": "markdown",
   "metadata": {},
   "source": [
    "---"
   ]
  },
  {
   "cell_type": "code",
   "execution_count": 5,
   "metadata": {},
   "outputs": [],
   "source": [
    "def make_features(x):\n",
    "    \"\"\"Builds features i.e. a matrix with columns [x^4, x^3, x^2, x^1].\"\"\"\n",
    "    x = x.unsqueeze(1)\n",
    "    return torch.cat([x ** (POLY_DEGREE+1-i) for i in range(1, POLY_DEGREE+1)], 1)"
   ]
  },
  {
   "cell_type": "code",
   "execution_count": 6,
   "metadata": {},
   "outputs": [],
   "source": [
    "def f(x):\n",
    "    \"\"\"Approximated function.\"\"\"\n",
    "    return x.mm(W_target) + b_target[0]"
   ]
  },
  {
   "cell_type": "code",
   "execution_count": 7,
   "metadata": {},
   "outputs": [],
   "source": [
    "def get_dataset(dataset_size):\n",
    "    \"\"\"Builds a batch i.e. (x, f(x)) pair.\"\"\"\n",
    "    random = torch.randn(dataset_size)\n",
    "    x = make_features(random)\n",
    "    y = f(x)\n",
    "    dataset = list(zip(x, y))\n",
    "    return dataset\n"
   ]
  },
  {
   "cell_type": "code",
   "execution_count": null,
   "metadata": {},
   "outputs": [],
   "source": [
    "dataset = get_dataset(200) # you can make as many as dataset as you want\n",
    "print(dataset)"
   ]
  },
  {
   "cell_type": "markdown",
   "metadata": {},
   "source": [
    "---"
   ]
  },
  {
   "cell_type": "code",
   "execution_count": 9,
   "metadata": {},
   "outputs": [],
   "source": [
    "num_epochs = 500\n",
    "batch_size = 50\n",
    "learning_rate = 0.1\n",
    "criterion = nn.SmoothL1Loss()"
   ]
  },
  {
   "cell_type": "code",
   "execution_count": 10,
   "metadata": {},
   "outputs": [],
   "source": [
    "dataset_loader = torch.utils.data.DataLoader(dataset=dataset, batch_size=batch_size, shuffle=True)"
   ]
  },
  {
   "cell_type": "markdown",
   "metadata": {},
   "source": [
    "---"
   ]
  },
  {
   "cell_type": "code",
   "execution_count": 11,
   "metadata": {},
   "outputs": [],
   "source": [
    "class Net(nn.Module):\n",
    "    def __init__(self):\n",
    "        super(Net, self).__init__()\n",
    "        self.fc = nn.Linear(W_target.size(0), 1)\n",
    "        \n",
    "        # For fixing the initial weights and bias\n",
    "        self.fc.weight.data.fill_(0.)\n",
    "        self.fc.bias.data.fill_(0.)\n",
    "        \n",
    "    def forward(self, x):\n",
    "        output = self.fc(x)\n",
    "        return output"
   ]
  },
  {
   "cell_type": "code",
   "execution_count": 12,
   "metadata": {},
   "outputs": [
    {
     "name": "stdout",
     "output_type": "stream",
     "text": [
      "running on GPU\n"
     ]
    }
   ],
   "source": [
    "if torch.cuda.is_available():\n",
    "    device = torch.device(\"cuda:0\")\n",
    "    print(\"running on GPU\")\n",
    "else:\n",
    "    device = torch.device(\"cpu\")\n",
    "    print(\"running on CPU\")"
   ]
  },
  {
   "cell_type": "markdown",
   "metadata": {},
   "source": [
    "---"
   ]
  },
  {
   "cell_type": "code",
   "execution_count": 21,
   "metadata": {},
   "outputs": [
    {
     "name": "stdout",
     "output_type": "stream",
     "text": [
      "model-1585900118\n"
     ]
    }
   ],
   "source": [
    "import time\n",
    "import numpy as np\n",
    "import matplotlib.pyplot as plt\n",
    "from mpl_toolkits.mplot3d import Axes3D\n",
    "from scipy.interpolate import interp1d\n",
    "\n",
    "MODEL_NAME = f\"model-{int(time.time())}\"\n",
    "print(MODEL_NAME)\n",
    "\n",
    "LOSS = []\n",
    "EPOCHS = []\n",
    "\n",
    "def fit(model,loader,criterion,learning_rate,num_epochs):\n",
    "    model.train()\n",
    "    optimizer = torch.optim.SGD(model.parameters(), lr=learning_rate)\n",
    "    with open(\"model_0.1.log\", \"a\") as f:\n",
    "        \n",
    "        for epoch in range(num_epochs):\n",
    "            for i, data in enumerate(loader):\n",
    "                if torch.cuda.is_available():\n",
    "                    x = data[0].type(torch.FloatTensor).cuda()\n",
    "                    y = data[1].type(torch.FloatTensor).cuda()\n",
    "                else:\n",
    "                    x = data[0].type(torch.FloatTensor)\n",
    "                    y = data[1].type(torch.FloatTensor)   \n",
    "\n",
    "                y_hat = model(x)\n",
    "                loss = criterion(y_hat, y)\n",
    "\n",
    "                optimizer.zero_grad()\n",
    "                loss.backward()\n",
    "                optimizer.step()\n",
    "                \n",
    "                #print(y)\n",
    "                #print(y_hat)\n",
    "\n",
    "                LOSS.append(loss)\n",
    "                EPOCHS.append(epoch)\n",
    "                \n",
    "            fig = plt.figure() #for multiple figurs, for one thing just use plt.plot(times, accuracies) and plt.show()\n",
    "            plt.figure(figsize=(20,20))\n",
    "            plt.rcParams.update({'font.size': 22})\n",
    "\n",
    "            f = interp1d(EPOCHS, LOSS)\n",
    "\n",
    "            #define axis, each axis is a graph\n",
    "            ax1 = plt.subplot2grid((2,1), (0,0))\n",
    "            ax2 = plt.subplot2grid((2,1), (1,0), sharex=ax1)\n",
    "\n",
    "            ax1.plot(EPOCHS, LOSS, label=\"loss\")\n",
    "            ax1.legend(loc=2)\n",
    "            ax2.plot(EPOCHS, f(EPOCHS), label=\"loss_smoothed\")\n",
    "            ax2.legend(loc=2)   \n",
    "            plt.show()\n",
    "                \n",
    "            if epoch % 100 == 0:\n",
    "                y = y.cpu().detach().numpy()\n",
    "                y_hat = y_hat.cpu().detach().numpy()\n",
    "                fig = plt.figure() #for multiple figurs, for one thing just use plt.plot(times, accuracies) and plt.show()\n",
    "                plt.figure(figsize=(20,20))\n",
    "                plt.rcParams.update({'font.size': 22})\n",
    "\n",
    "\n",
    "                #define axis, each axis is a graph\n",
    "                ax1 = plt.subplot2grid((2,1), (0,0))\n",
    "                #ax2 = plt.subplot2grid((2,1), (1,0), sharex=ax1)\n",
    "\n",
    "                ax1.plot(y, label=\"actual\")\n",
    "                ax1.plot(y_hat, label=\"learned\")\n",
    "                ax1.legend(loc=2)\n",
    "\n",
    "                #ax2.plot(x, LF, label=\"learned\")\n",
    "                #ax2.legend(loc=2)\n",
    "\n",
    "                plt.show()\n",
    "\n",
    "                #f.write(f\"{MODEL_NAME}, {epoch}, {round(time.time(),3)},{round(float(loss), 4)}, {x}, {y}, {y_hat}\\n\")"
   ]
  },
  {
   "cell_type": "markdown",
   "metadata": {},
   "source": [
    "---"
   ]
  },
  {
   "cell_type": "code",
   "execution_count": 22,
   "metadata": {},
   "outputs": [
    {
     "name": "stdout",
     "output_type": "stream",
     "text": [
      "==> Initial function:\t+0.00 x^4 +0.00 x^3 +0.00 x^2 +0.00 x^1 +0.00\n",
      "==> Actual function:\t+6.19 x^4 -4.80 x^3 +7.71 x^2 -2.04 x^1 +4.40\n"
     ]
    }
   ],
   "source": [
    "net = Net().cuda() if torch.cuda.is_available() else Net()\n",
    "print('==> Initial function:\\t' + poly_desc(net.fc.weight.data.view(-1), net.fc.bias.data))\n",
    "print('==> Actual function:\\t' + poly_desc(W_target.view(-1), b_target))"
   ]
  },
  {
   "cell_type": "code",
   "execution_count": null,
   "metadata": {},
   "outputs": [],
   "source": [
    "# train\n",
    "fit(net,dataset_loader,criterion,learning_rate,num_epochs)"
   ]
  },
  {
   "cell_type": "code",
   "execution_count": 24,
   "metadata": {
    "scrolled": false
   },
   "outputs": [
    {
     "name": "stdout",
     "output_type": "stream",
     "text": [
      "==> Learned function:\t+7.01 x^4 -4.66 x^3 +4.39 x^2 -1.57 x^1 +5.33\n",
      "==> Actual function:\t+6.19 x^4 -4.80 x^3 +7.71 x^2 -2.04 x^1 +4.40\n"
     ]
    }
   ],
   "source": [
    "print('==> Learned function:\\t' + poly_desc(net.fc.weight.data.view(-1), net.fc.bias.data))\n",
    "print('==> Actual function:\\t' + poly_desc(W_target.view(-1), b_target))"
   ]
  },
  {
   "cell_type": "code",
   "execution_count": null,
   "metadata": {},
   "outputs": [],
   "source": []
  }
 ],
 "metadata": {
  "kernelspec": {
   "display_name": "Python 3",
   "language": "python",
   "name": "python3"
  },
  "language_info": {
   "codemirror_mode": {
    "name": "ipython",
    "version": 3
   },
   "file_extension": ".py",
   "mimetype": "text/x-python",
   "name": "python",
   "nbconvert_exporter": "python",
   "pygments_lexer": "ipython3",
   "version": "3.7.4"
  }
 },
 "nbformat": 4,
 "nbformat_minor": 4
}
