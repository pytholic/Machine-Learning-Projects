{
 "cells": [
  {
   "cell_type": "code",
   "execution_count": null,
   "metadata": {},
   "outputs": [],
   "source": [
    "#SSIM library used. Developed by Po-Hsun-Su\n",
    "#GitHub link: https://github.com/Po-Hsun-Su/pytorch-ssim"
   ]
  },
  {
   "cell_type": "code",
   "execution_count": 30,
   "metadata": {},
   "outputs": [],
   "source": [
    "import glob\n",
    "\n",
    "PATH_RESULTS = '/home/trojan/Desktop/Image restoration/Homeworks/HW1/result'\n",
    "PATH_HR = '/home/trojan/Desktop/Image restoration/Homeworks/HW1/Dataset/SR_data/benchmark/Set5/HR'\n",
    "\n",
    "result_images = []\n",
    "hr_images = []\n",
    "\n",
    "for hr_names in glob.glob(PATH_HR + '/*.png'):\n",
    "    hr_images.append(hr_names)\n",
    "    \n",
    "for result_names in glob.glob(PATH_RESULTS + '/*.png'):\n",
    "    result_images.append(result_names)\n",
    "    \n"
   ]
  },
  {
   "cell_type": "code",
   "execution_count": 31,
   "metadata": {},
   "outputs": [
    {
     "name": "stdout",
     "output_type": "stream",
     "text": [
      "['/home/trojan/Desktop/Image restoration/Homeworks/HW1/result/woman.png', '/home/trojan/Desktop/Image restoration/Homeworks/HW1/result/butterfly.png', '/home/trojan/Desktop/Image restoration/Homeworks/HW1/result/baby.png', '/home/trojan/Desktop/Image restoration/Homeworks/HW1/result/bird.png', '/home/trojan/Desktop/Image restoration/Homeworks/HW1/result/head.png']\n"
     ]
    }
   ],
   "source": [
    "print(result_images)"
   ]
  },
  {
   "cell_type": "code",
   "execution_count": 32,
   "metadata": {
    "scrolled": true
   },
   "outputs": [
    {
     "name": "stdout",
     "output_type": "stream",
     "text": [
      "['/home/trojan/Desktop/Image restoration/Homeworks/HW1/Dataset/SR_data/benchmark/Set5/HR/woman.png', '/home/trojan/Desktop/Image restoration/Homeworks/HW1/Dataset/SR_data/benchmark/Set5/HR/butterfly.png', '/home/trojan/Desktop/Image restoration/Homeworks/HW1/Dataset/SR_data/benchmark/Set5/HR/baby.png', '/home/trojan/Desktop/Image restoration/Homeworks/HW1/Dataset/SR_data/benchmark/Set5/HR/bird.png', '/home/trojan/Desktop/Image restoration/Homeworks/HW1/Dataset/SR_data/benchmark/Set5/HR/head.png']\n"
     ]
    }
   ],
   "source": [
    "print(hr_images)"
   ]
  },
  {
   "cell_type": "code",
   "execution_count": 33,
   "metadata": {},
   "outputs": [
    {
     "name": "stdout",
     "output_type": "stream",
     "text": [
      "tensor(0.9642, device='cuda:0')\n",
      "tensor(0.9540, device='cuda:0')\n",
      "tensor(0.9561, device='cuda:0')\n",
      "tensor(0.9725, device='cuda:0')\n",
      "tensor(0.8274, device='cuda:0')\n"
     ]
    }
   ],
   "source": [
    "import torch\n",
    "import pytorch_ssim\n",
    "import cv2\n",
    "import numpy as np\n",
    "\n",
    "for i in range(len(result_images)):\n",
    "    np_img1 = cv2.imread(result_images[i])\n",
    "    np_img2 = cv2.imread(hr_images[i])\n",
    "        \n",
    "    img1 = torch.from_numpy(np.rollaxis(np_img1, 2)).float().unsqueeze(0)/255.0\n",
    "    img2 = torch.from_numpy(np.rollaxis(np_img2, 2)).float().unsqueeze(0)/255.0\n",
    "        \n",
    "    if torch.cuda.is_available():\n",
    "        img1 = img1.cuda()\n",
    "        img2 = img2.cuda()\n",
    "        \n",
    "    print(pytorch_ssim.ssim(img1, img2))"
   ]
  },
  {
   "cell_type": "code",
   "execution_count": null,
   "metadata": {},
   "outputs": [],
   "source": []
  }
 ],
 "metadata": {
  "kernelspec": {
   "display_name": "Python 3",
   "language": "python",
   "name": "python3"
  },
  "language_info": {
   "codemirror_mode": {
    "name": "ipython",
    "version": 3
   },
   "file_extension": ".py",
   "mimetype": "text/x-python",
   "name": "python",
   "nbconvert_exporter": "python",
   "pygments_lexer": "ipython3",
   "version": "3.6.9"
  }
 },
 "nbformat": 4,
 "nbformat_minor": 4
}
