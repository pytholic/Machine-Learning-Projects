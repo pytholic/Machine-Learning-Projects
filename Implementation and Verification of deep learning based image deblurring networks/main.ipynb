{
 "cells": [
  {
   "cell_type": "code",
   "execution_count": 32,
   "metadata": {},
   "outputs": [],
   "source": [
    "'''Main Code'''\n",
    "\n",
    "#Import libraries and scripts\n",
    "\n",
    "import torch\n",
    "import torch.nn as nn\n",
    "\n",
    "from torch.nn import init\n",
    "from torch.autograd import Variable\n",
    "import argparse\n",
    "import torch.optim as optim\n",
    "import math\n",
    "import ast\n",
    "from PIL import Image\n",
    "import numpy as np\n",
    "\n",
    "from ssim import ssim as compare_ssim\n",
    "from msssim import msssim as compare_mssim\n",
    "from utils import compute_psnr as compare_psnr\n",
    "\n",
    "from model import model\n",
    "from data import Gopro\n",
    "from utils import *\n",
    "\n",
    "from tqdm.notebook import tqdm as tqdm_notebook\n",
    "import time"
   ]
  },
  {
   "cell_type": "code",
   "execution_count": 33,
   "metadata": {},
   "outputs": [
    {
     "data": {
      "text/plain": [
       "True"
      ]
     },
     "execution_count": 33,
     "metadata": {},
     "output_type": "execute_result"
    }
   ],
   "source": [
    "#Check if gpu is available\n",
    "torch.cuda.is_available()"
   ]
  },
  {
   "cell_type": "markdown",
   "metadata": {},
   "source": [
    "# Experimental setup and argument parsing"
   ]
  },
  {
   "cell_type": "code",
   "execution_count": 34,
   "metadata": {},
   "outputs": [],
   "source": [
    "#Using easydict instead of argparser because I am using notebook\n",
    "\n",
    "from easydict import EasyDict as edict\n",
    "\n",
    "args = edict()\n",
    "\n",
    "# Training data\n",
    "args.data_dir = '/home/trojan/Desktop/Image restoration/Homeworks/HW2/dataset/GOPRO_Large/train'   # train dataset directory\n",
    "args.save_dir = '/home/trojan/Desktop/Image restoration/Homeworks/HW2/result'   # directory to save data\n",
    "\n",
    "# Model\n",
    "args.exp_name = 'Net_single+skip'   # model to be selected\n",
    "args.finetuning = False   # to finetune the training\n",
    "args.load = 'NetFinal'\n",
    "\n",
    "# Training\n",
    "args.patch_size = 256   # training patch size\n",
    "args.batch_size = 16   # input batch size\n",
    "\n",
    "#Validation data\n",
    "args.val_data = True\n",
    "args.val_batch_size = 1   # batch size for validation data\n",
    "args.n_threads = 8   # threads number for loading data\n",
    "\n",
    "# Testing data\n",
    "args.test_dir = '/home/trojan/Desktop/Image restoration/Homeworks/HW2/dataset/GOPRO_Large/test'   # test dataset directory\n",
    "args.save = True\n",
    "args.padding = 8\n",
    "\n",
    "# Network\n",
    "args.skip = True   # to use long skip connection\n",
    "args.multi = False   # to use multi-scale model\n",
    "args.num_features = 64   # number of feature maps\n",
    "args.num_resblocks = 9   # number of residual blocks to use\n",
    "\n",
    "# Optimization\n",
    "args.lr = 1e-3   # learning rate for the optimizer\n",
    "args.epochs = 50 #800   # number of training epochs\n",
    "#args.lr_step_size = 600   # decay learning rate after N epochs\n",
    "args.lr_gamma = 0.1   # learning rate decay factor\n",
    "args.lr_decay = 30   #number of epochs to drop lr\n",
    "args.decay_type = 'inv' #lr decay type\n",
    "args.loss_type = 'MSE'   #Loss type\n",
    "\n",
    "args.period = 1\n",
    "args.gpu = True   # gpu index"
   ]
  },
  {
   "cell_type": "code",
   "execution_count": 35,
   "metadata": {},
   "outputs": [],
   "source": [
    "#Basic Settings\n",
    "if args.gpu == 0:\n",
    "    os.environ[\"CUDA_DEVICE_ORDER\"] = \"PCI_BUS_ID\"\n",
    "    os.environ[\"CUDA_VISIBLE_DEVICES\"] = \"0\"\n",
    "elif args.gpu == 1:\n",
    "    os.environ[\"CUDA_DEVICE_ORDER\"] = \"PCI_BUS_ID\"\n",
    "    os.environ[\"CUDA_VISIBLE_DEVICES\"] = \"1\""
   ]
  },
  {
   "cell_type": "code",
   "execution_count": 36,
   "metadata": {},
   "outputs": [
    {
     "name": "stdout",
     "output_type": "stream",
     "text": [
      "cuda\n"
     ]
    }
   ],
   "source": [
    "#Check cuda device\n",
    "device = 'cuda' if torch.cuda.is_available() and args.gpu else 'cpu'\n",
    "print (device)"
   ]
  },
  {
   "cell_type": "markdown",
   "metadata": {},
   "source": [
    "# Define helper function"
   ]
  },
  {
   "cell_type": "code",
   "execution_count": 37,
   "metadata": {},
   "outputs": [],
   "source": [
    "def get_dataset(args):\n",
    "    data_train = Gopro(args.data_dir, patch_size=args.patch_size, is_train=True, multi=args.multi)\n",
    "    dataloader = torch.utils.data.DataLoader(data_train, batch_size=args.batch_size,\n",
    "                                             drop_last=True, shuffle=True, num_workers=int(args.n_threads), pin_memory=False)\n",
    "    return dataloader\n",
    "\n",
    "def get_testdataset(args):\n",
    "    data_test = Gopro(args.test_dir, patch_size=args.patch_size, is_train=False, multi=args.multi)\n",
    "    dataloader = torch.utils.data.DataLoader(data_test, batch_size=1,\n",
    "                                             drop_last=True, shuffle=False, num_workers=int(args.n_threads), pin_memory=False)\n",
    "    return dataloader\n",
    "\n",
    "def set_loss(args):\n",
    "    loss_type = args.loss_type\n",
    "    if loss_type == 'MSE':\n",
    "        lossfunction = nn.MSELoss()\n",
    "    elif loss_type == 'L1':\n",
    "        lossfunction = nn.L1Loss()\n",
    "    return lossfunction\n",
    "\n",
    "def set_lr(args, epoch, optimizer):\n",
    "    lr_decay = args.lr_decay\n",
    "    decay_type = args.decay_type\n",
    "    if decay_type == 'step':\n",
    "        epoch_iter = (epoch + 1) // lr_decay\n",
    "        lr = args.lr / 2 ** epoch_iter\n",
    "    elif decay_type == 'exp':\n",
    "        k = math.log(2) / lr_decay\n",
    "        lr = args.lr * math.exp(-k * epoch)\n",
    "    elif decay_type == 'inv':\n",
    "        k = 1 / lr_decay\n",
    "        lr = args.lr / (1 + k * epoch)\n",
    "    for param_group in optimizer.param_groups:\n",
    "        param_group['lr'] = lr\n",
    "    return lr\n",
    "\n",
    "def count_parameters(model):\n",
    "    return sum(p.numel() for p in model.parameters() if p.requires_grad)"
   ]
  },
  {
   "cell_type": "code",
   "execution_count": 38,
   "metadata": {},
   "outputs": [],
   "source": [
    "# This will be used to get validation results using test dataset\n",
    "\n",
    "def validation(model, dataloader, multi):\n",
    "    total_psnr = 0\n",
    "    for batch, images in tqdm_notebook(enumerate(dataloader)):\n",
    "        with torch.no_grad():\n",
    "            input_b1 = Variable(images['input_b1'].cuda())\n",
    "            target_s1 = Variable(images['target_s1'].cuda())\n",
    "\n",
    "            if multi:\n",
    "                input_b2 = Variable(images['input_b2'].cuda())\n",
    "                input_b3 = Variable(images['input_b3'].cuda())\n",
    "                output_l1, _, _ = model((input_b1, input_b2, input_b3))\n",
    "            else:\n",
    "                output_l1 = model(input_b1)\n",
    "\n",
    "        output_l1 = tensor_to_rgb(output_l1)\n",
    "        target_s1 = tensor_to_rgb(target_s1)\n",
    "\n",
    "        # compute psnr using function from utils\n",
    "        psnr = compute_psnr(target_s1, output_l1)\n",
    "        total_psnr += psnr\n",
    "\n",
    "    return total_psnr / (batch + 1)"
   ]
  },
  {
   "cell_type": "markdown",
   "metadata": {},
   "source": [
    "# Training"
   ]
  },
  {
   "cell_type": "code",
   "execution_count": 39,
   "metadata": {},
   "outputs": [],
   "source": [
    "def train(args):\n",
    "    print(args)\n",
    "    if args.multi:\n",
    "        net_model = model.MultiScaleNet(num_features=args.num_features, num_resblocks=args.num_resblocks, is_skip=args.skip)\n",
    "    else:\n",
    "        net_model = model.SingleScaleNet(num_features=args.num_features, num_resblocks=args.num_resblocks, is_skip=args.skip)\n",
    "    net_model = net_model.cuda()\n",
    "    loss_function = set_loss(args)\n",
    "    loss_function.cuda()\n",
    "    \n",
    "    last_epoch = 0\n",
    "    loss_values = []\n",
    "    \n",
    "    save = SaveData(args.save_dir, args.exp_name, args.finetuning)\n",
    "    save.save_params(args)\n",
    "    num_params = count_parameters(net_model)\n",
    "    save.save_log(str(num_params))\n",
    "\n",
    "\n",
    "    if args.finetuning:\n",
    "        net_model, last_epoch = save.load_model(net_model)\n",
    "\n",
    "    start_epoch = last_epoch\n",
    "    total_loss = 0\n",
    "    total_time = 0\n",
    "    \n",
    "    # load dataset\n",
    "    dataloader = get_dataset(args)\n",
    "    testdataloader = get_testdataset(args)\n",
    "\n",
    "    for epoch in range(start_epoch, args.epochs):\n",
    "        start = time.time()\n",
    "        optimizer = optim.Adam(net_model.parameters(), lr=args.lr)\n",
    "        learning_rate = set_lr(args, epoch, optimizer)\n",
    "        print(\"Epoch {}/{}\".format(epoch + 1, args.epochs))\n",
    "\n",
    "        total_loss_ = 0\n",
    "        loss = 0\n",
    "        for batch, images in tqdm_notebook(enumerate(dataloader)):\n",
    "            input_b1 = Variable(images['input_b1'].cuda())\n",
    "            target_s1 = Variable(images['target_s1'].cuda())\n",
    "\n",
    "            if args.multi:\n",
    "                input_b2 = Variable(images['input_b2'].cuda())\n",
    "                target_s2 = Variable(images['target_s2'].cuda())\n",
    "                input_b3 = Variable(images['input_b3'].cuda())\n",
    "                target_s3 = Variable(images['target_s3'].cuda())\n",
    "                output_l1, output_l2, output_l3 = net_model((input_b1, input_b2, input_b3))\n",
    "                loss = (loss_function(output_l1, target_s1)\n",
    "                        + loss_function(output_l2, target_s2)\n",
    "                        + loss_function(output_l3, target_s3)) / 3\n",
    "            else:\n",
    "                output_l1 = net_model(input_b1)\n",
    "                loss = loss_function(output_l1, target_s1)\n",
    "\n",
    "            net_model.zero_grad()\n",
    "            loss.backward()\n",
    "            optimizer.step()\n",
    "            #tqdm._instances.clear()\n",
    "            total_loss_ += loss.data.cpu().numpy()\n",
    "\n",
    "        total_loss = total_loss_ / (batch + 1)\n",
    "        loss_values.append(total_loss)\n",
    "        save.add_scalar('train/loss', total_loss, epoch)\n",
    "        end = time.time()\n",
    "        epoch_time = (end - start)\n",
    "        total_time = total_time + epoch_time           \n",
    "        \n",
    "        if  (epoch + 1) % args.period == 0:\n",
    "\n",
    "            if args.val_data:\n",
    "                net_model.eval()\n",
    "                psnr = validation(net_model, testdataloader, args.multi)\n",
    "                net_model.train()\n",
    "\n",
    "                log = \"Epoch {}/{} \\t Learning rate: {:.5f} \\t Train total_loss: {:.5f} \\t * Val_PSNR: {:.2f} \\t Time: {:.4f}\\n\".format(\n",
    "                    epoch + 1, args.epochs, learning_rate, total_loss, psnr, total_time)\n",
    "                print(log)\n",
    "                save.save_log(log)\n",
    "                save.add_scalar('valid/psnr', psnr, epoch)\n",
    "            save.save_model(net_model, epoch)\n",
    "            total_time = 0\n",
    "        \n",
    "        else:\n",
    "            log = \"Epoch {}/{} \\t Learning rate: {:.5f} \\t Train total_loss: {:.5f} t Time: {:.4f} \\t Total time: {:.4f}\\n\".format(epoch + 1, args.epochs,\n",
    "                                                                                              learning_rate, total_loss, total_time)\n",
    "            print(log)\n",
    "            save.save_log(log)\n",
    "            save.save_model(net_model, epoch)\n",
    "            total_time = 0"
   ]
  },
  {
   "cell_type": "code",
   "execution_count": 9,
   "metadata": {},
   "outputs": [
    {
     "name": "stdout",
     "output_type": "stream",
     "text": [
      "{'data_dir': '/home/trojan/Desktop/Image restoration/Homeworks/HW2/dataset/GOPRO_Large/train', 'save_dir': '/home/trojan/Desktop/Image restoration/Homeworks/HW2/result', 'exp_name': 'Net_multi', 'finetuning': False, 'load': 'NetFinal', 'patch_size': 256, 'batch_size': 16, 'val_data': True, 'val_batch_size': 1, 'n_threads': 8, 'test_dir': '/home/trojan/Desktop/Image restoration/Homeworks/HW2/dataset/GOPRO_Large/test', 'save': True, 'padding': 8, 'skip': False, 'multi': True, 'num_features': 64, 'num_resblocks': 9, 'lr': 0.001, 'epochs': 50, 'lr_gamma': 0.1, 'lr_decay': 30, 'decay_type': 'inv', 'loss_type': 'MSE', 'period': 1, 'gpu': True}\n",
      "Epoch 1/50\n"
     ]
    },
    {
     "data": {
      "application/vnd.jupyter.widget-view+json": {
       "model_id": "3c570b30c70840938480bf62d0e814c3",
       "version_major": 2,
       "version_minor": 0
      },
      "text/plain": [
       "HBox(children=(HTML(value=''), FloatProgress(value=1.0, bar_style='info', layout=Layout(width='20px'), max=1.0…"
      ]
     },
     "metadata": {},
     "output_type": "display_data"
    },
    {
     "name": "stdout",
     "output_type": "stream",
     "text": [
      "\n"
     ]
    },
    {
     "data": {
      "application/vnd.jupyter.widget-view+json": {
       "model_id": "11a882549203415781c481a1fe19247f",
       "version_major": 2,
       "version_minor": 0
      },
      "text/plain": [
       "HBox(children=(HTML(value=''), FloatProgress(value=1.0, bar_style='info', layout=Layout(width='20px'), max=1.0…"
      ]
     },
     "metadata": {},
     "output_type": "display_data"
    },
    {
     "name": "stdout",
     "output_type": "stream",
     "text": [
      "\n",
      "Epoch 1/50 \t Learning rate: 0.00100 \t Train total_loss: 0.04008 \t * Val_PSNR: 24.58 \t Time: 111.5089 \t Total time: 111.5089\n",
      "\n",
      "Epoch 2/50\n"
     ]
    },
    {
     "data": {
      "application/vnd.jupyter.widget-view+json": {
       "model_id": "e3c2cece4a524d4b86ed1a89266cc265",
       "version_major": 2,
       "version_minor": 0
      },
      "text/plain": [
       "HBox(children=(HTML(value=''), FloatProgress(value=1.0, bar_style='info', layout=Layout(width='20px'), max=1.0…"
      ]
     },
     "metadata": {},
     "output_type": "display_data"
    },
    {
     "name": "stdout",
     "output_type": "stream",
     "text": [
      "\n"
     ]
    },
    {
     "data": {
      "application/vnd.jupyter.widget-view+json": {
       "model_id": "9cf3c09275ba4e94b42ecc5fe99c8a0f",
       "version_major": 2,
       "version_minor": 0
      },
      "text/plain": [
       "HBox(children=(HTML(value=''), FloatProgress(value=1.0, bar_style='info', layout=Layout(width='20px'), max=1.0…"
      ]
     },
     "metadata": {},
     "output_type": "display_data"
    },
    {
     "name": "stdout",
     "output_type": "stream",
     "text": [
      "\n",
      "Epoch 2/50 \t Learning rate: 0.00097 \t Train total_loss: 0.11912 \t * Val_PSNR: 24.74 \t Time: 112.4366 \t Total time: 112.4366\n",
      "\n",
      "Epoch 3/50\n"
     ]
    },
    {
     "data": {
      "application/vnd.jupyter.widget-view+json": {
       "model_id": "1affcec7c6734941b3b0494e2c18da16",
       "version_major": 2,
       "version_minor": 0
      },
      "text/plain": [
       "HBox(children=(HTML(value=''), FloatProgress(value=1.0, bar_style='info', layout=Layout(width='20px'), max=1.0…"
      ]
     },
     "metadata": {},
     "output_type": "display_data"
    },
    {
     "name": "stdout",
     "output_type": "stream",
     "text": [
      "\n"
     ]
    },
    {
     "data": {
      "application/vnd.jupyter.widget-view+json": {
       "model_id": "3469561a8c3d42b195cc5b569a14ecd7",
       "version_major": 2,
       "version_minor": 0
      },
      "text/plain": [
       "HBox(children=(HTML(value=''), FloatProgress(value=1.0, bar_style='info', layout=Layout(width='20px'), max=1.0…"
      ]
     },
     "metadata": {},
     "output_type": "display_data"
    },
    {
     "name": "stdout",
     "output_type": "stream",
     "text": [
      "\n",
      "Epoch 3/50 \t Learning rate: 0.00094 \t Train total_loss: 0.03062 \t * Val_PSNR: 25.23 \t Time: 112.3018 \t Total time: 112.3018\n",
      "\n",
      "Epoch 4/50\n"
     ]
    },
    {
     "data": {
      "application/vnd.jupyter.widget-view+json": {
       "model_id": "f0ad3e60f742462db7707e9cd157af31",
       "version_major": 2,
       "version_minor": 0
      },
      "text/plain": [
       "HBox(children=(HTML(value=''), FloatProgress(value=1.0, bar_style='info', layout=Layout(width='20px'), max=1.0…"
      ]
     },
     "metadata": {},
     "output_type": "display_data"
    },
    {
     "name": "stdout",
     "output_type": "stream",
     "text": [
      "\n"
     ]
    },
    {
     "data": {
      "application/vnd.jupyter.widget-view+json": {
       "model_id": "7e41c1e81c66485f906f23a3d874f14f",
       "version_major": 2,
       "version_minor": 0
      },
      "text/plain": [
       "HBox(children=(HTML(value=''), FloatProgress(value=1.0, bar_style='info', layout=Layout(width='20px'), max=1.0…"
      ]
     },
     "metadata": {},
     "output_type": "display_data"
    },
    {
     "name": "stdout",
     "output_type": "stream",
     "text": [
      "\n",
      "Epoch 4/50 \t Learning rate: 0.00091 \t Train total_loss: 0.01037 \t * Val_PSNR: 24.97 \t Time: 111.9641 \t Total time: 111.9641\n",
      "\n",
      "Epoch 5/50\n"
     ]
    },
    {
     "data": {
      "application/vnd.jupyter.widget-view+json": {
       "model_id": "d9d7918c51e3493a9edb9f4322659718",
       "version_major": 2,
       "version_minor": 0
      },
      "text/plain": [
       "HBox(children=(HTML(value=''), FloatProgress(value=1.0, bar_style='info', layout=Layout(width='20px'), max=1.0…"
      ]
     },
     "metadata": {},
     "output_type": "display_data"
    },
    {
     "name": "stdout",
     "output_type": "stream",
     "text": [
      "\n"
     ]
    },
    {
     "data": {
      "application/vnd.jupyter.widget-view+json": {
       "model_id": "a7ccd03621e74b2e859198cee5d382fe",
       "version_major": 2,
       "version_minor": 0
      },
      "text/plain": [
       "HBox(children=(HTML(value=''), FloatProgress(value=1.0, bar_style='info', layout=Layout(width='20px'), max=1.0…"
      ]
     },
     "metadata": {},
     "output_type": "display_data"
    },
    {
     "name": "stdout",
     "output_type": "stream",
     "text": [
      "\n",
      "Epoch 5/50 \t Learning rate: 0.00088 \t Train total_loss: 0.01203 \t * Val_PSNR: 25.17 \t Time: 111.8796 \t Total time: 111.8796\n",
      "\n",
      "Epoch 6/50\n"
     ]
    },
    {
     "data": {
      "application/vnd.jupyter.widget-view+json": {
       "model_id": "e715c0e71ea24d0c9ba8846e13ec52c6",
       "version_major": 2,
       "version_minor": 0
      },
      "text/plain": [
       "HBox(children=(HTML(value=''), FloatProgress(value=1.0, bar_style='info', layout=Layout(width='20px'), max=1.0…"
      ]
     },
     "metadata": {},
     "output_type": "display_data"
    },
    {
     "name": "stdout",
     "output_type": "stream",
     "text": [
      "\n"
     ]
    },
    {
     "data": {
      "application/vnd.jupyter.widget-view+json": {
       "model_id": "11387f18a10f49d1b5cb0eeced473bc7",
       "version_major": 2,
       "version_minor": 0
      },
      "text/plain": [
       "HBox(children=(HTML(value=''), FloatProgress(value=1.0, bar_style='info', layout=Layout(width='20px'), max=1.0…"
      ]
     },
     "metadata": {},
     "output_type": "display_data"
    },
    {
     "name": "stdout",
     "output_type": "stream",
     "text": [
      "\n",
      "Epoch 6/50 \t Learning rate: 0.00086 \t Train total_loss: 0.00779 \t * Val_PSNR: 25.27 \t Time: 112.1314 \t Total time: 112.1314\n",
      "\n",
      "Epoch 7/50\n"
     ]
    },
    {
     "data": {
      "application/vnd.jupyter.widget-view+json": {
       "model_id": "30c37252af434b8983e0798be1591304",
       "version_major": 2,
       "version_minor": 0
      },
      "text/plain": [
       "HBox(children=(HTML(value=''), FloatProgress(value=1.0, bar_style='info', layout=Layout(width='20px'), max=1.0…"
      ]
     },
     "metadata": {},
     "output_type": "display_data"
    },
    {
     "name": "stdout",
     "output_type": "stream",
     "text": [
      "\n"
     ]
    },
    {
     "data": {
      "application/vnd.jupyter.widget-view+json": {
       "model_id": "105bb252a71e41d8b3c02f51753164c7",
       "version_major": 2,
       "version_minor": 0
      },
      "text/plain": [
       "HBox(children=(HTML(value=''), FloatProgress(value=1.0, bar_style='info', layout=Layout(width='20px'), max=1.0…"
      ]
     },
     "metadata": {},
     "output_type": "display_data"
    },
    {
     "name": "stdout",
     "output_type": "stream",
     "text": [
      "\n",
      "Epoch 7/50 \t Learning rate: 0.00083 \t Train total_loss: 0.00556 \t * Val_PSNR: 25.33 \t Time: 112.1391 \t Total time: 112.1391\n",
      "\n",
      "Epoch 8/50\n"
     ]
    },
    {
     "data": {
      "application/vnd.jupyter.widget-view+json": {
       "model_id": "c697b5b7e37e4881b94c45f91a20fc17",
       "version_major": 2,
       "version_minor": 0
      },
      "text/plain": [
       "HBox(children=(HTML(value=''), FloatProgress(value=1.0, bar_style='info', layout=Layout(width='20px'), max=1.0…"
      ]
     },
     "metadata": {},
     "output_type": "display_data"
    },
    {
     "name": "stdout",
     "output_type": "stream",
     "text": [
      "\n"
     ]
    },
    {
     "data": {
      "application/vnd.jupyter.widget-view+json": {
       "model_id": "fe871a1ad97749fbb8084f713dbdc183",
       "version_major": 2,
       "version_minor": 0
      },
      "text/plain": [
       "HBox(children=(HTML(value=''), FloatProgress(value=1.0, bar_style='info', layout=Layout(width='20px'), max=1.0…"
      ]
     },
     "metadata": {},
     "output_type": "display_data"
    },
    {
     "name": "stdout",
     "output_type": "stream",
     "text": [
      "\n",
      "Epoch 8/50 \t Learning rate: 0.00081 \t Train total_loss: 0.00429 \t * Val_PSNR: 25.42 \t Time: 111.8794 \t Total time: 111.8794\n",
      "\n",
      "Epoch 9/50\n"
     ]
    },
    {
     "data": {
      "application/vnd.jupyter.widget-view+json": {
       "model_id": "0f4d663b1c104c8b97fc33415bb6daa2",
       "version_major": 2,
       "version_minor": 0
      },
      "text/plain": [
       "HBox(children=(HTML(value=''), FloatProgress(value=1.0, bar_style='info', layout=Layout(width='20px'), max=1.0…"
      ]
     },
     "metadata": {},
     "output_type": "display_data"
    },
    {
     "name": "stdout",
     "output_type": "stream",
     "text": [
      "\n"
     ]
    },
    {
     "data": {
      "application/vnd.jupyter.widget-view+json": {
       "model_id": "e598392d5f6f4989ac7a3e944cd1453a",
       "version_major": 2,
       "version_minor": 0
      },
      "text/plain": [
       "HBox(children=(HTML(value=''), FloatProgress(value=1.0, bar_style='info', layout=Layout(width='20px'), max=1.0…"
      ]
     },
     "metadata": {},
     "output_type": "display_data"
    },
    {
     "name": "stdout",
     "output_type": "stream",
     "text": [
      "\n",
      "Epoch 9/50 \t Learning rate: 0.00079 \t Train total_loss: 0.00344 \t * Val_PSNR: 25.49 \t Time: 111.6441 \t Total time: 111.6441\n",
      "\n",
      "Epoch 10/50\n"
     ]
    },
    {
     "data": {
      "application/vnd.jupyter.widget-view+json": {
       "model_id": "5bd9e749b8fb4f78ad4f95361e82f3bd",
       "version_major": 2,
       "version_minor": 0
      },
      "text/plain": [
       "HBox(children=(HTML(value=''), FloatProgress(value=1.0, bar_style='info', layout=Layout(width='20px'), max=1.0…"
      ]
     },
     "metadata": {},
     "output_type": "display_data"
    },
    {
     "name": "stdout",
     "output_type": "stream",
     "text": [
      "\n"
     ]
    },
    {
     "data": {
      "application/vnd.jupyter.widget-view+json": {
       "model_id": "5f9a56f011ab4fa5bd1c315f868d884c",
       "version_major": 2,
       "version_minor": 0
      },
      "text/plain": [
       "HBox(children=(HTML(value=''), FloatProgress(value=1.0, bar_style='info', layout=Layout(width='20px'), max=1.0…"
      ]
     },
     "metadata": {},
     "output_type": "display_data"
    },
    {
     "name": "stdout",
     "output_type": "stream",
     "text": [
      "\n",
      "Epoch 10/50 \t Learning rate: 0.00077 \t Train total_loss: 0.00343 \t * Val_PSNR: 25.48 \t Time: 111.5239 \t Total time: 111.5239\n",
      "\n",
      "Epoch 11/50\n"
     ]
    },
    {
     "data": {
      "application/vnd.jupyter.widget-view+json": {
       "model_id": "4531c45369304cc78c3023024b665f8f",
       "version_major": 2,
       "version_minor": 0
      },
      "text/plain": [
       "HBox(children=(HTML(value=''), FloatProgress(value=1.0, bar_style='info', layout=Layout(width='20px'), max=1.0…"
      ]
     },
     "metadata": {},
     "output_type": "display_data"
    },
    {
     "name": "stdout",
     "output_type": "stream",
     "text": [
      "\n"
     ]
    },
    {
     "data": {
      "application/vnd.jupyter.widget-view+json": {
       "model_id": "c85dbe5254a14fa2b159a4b7632ac554",
       "version_major": 2,
       "version_minor": 0
      },
      "text/plain": [
       "HBox(children=(HTML(value=''), FloatProgress(value=1.0, bar_style='info', layout=Layout(width='20px'), max=1.0…"
      ]
     },
     "metadata": {},
     "output_type": "display_data"
    },
    {
     "name": "stdout",
     "output_type": "stream",
     "text": [
      "\n",
      "Epoch 11/50 \t Learning rate: 0.00075 \t Train total_loss: 0.00350 \t * Val_PSNR: 25.54 \t Time: 111.6911 \t Total time: 111.6911\n",
      "\n",
      "Epoch 12/50\n"
     ]
    },
    {
     "data": {
      "application/vnd.jupyter.widget-view+json": {
       "model_id": "38273d90d8a64a539004ce4aca99ca52",
       "version_major": 2,
       "version_minor": 0
      },
      "text/plain": [
       "HBox(children=(HTML(value=''), FloatProgress(value=1.0, bar_style='info', layout=Layout(width='20px'), max=1.0…"
      ]
     },
     "metadata": {},
     "output_type": "display_data"
    },
    {
     "name": "stdout",
     "output_type": "stream",
     "text": [
      "\n"
     ]
    },
    {
     "data": {
      "application/vnd.jupyter.widget-view+json": {
       "model_id": "c46720a9ab2a4e03a94b77b9a3482ccc",
       "version_major": 2,
       "version_minor": 0
      },
      "text/plain": [
       "HBox(children=(HTML(value=''), FloatProgress(value=1.0, bar_style='info', layout=Layout(width='20px'), max=1.0…"
      ]
     },
     "metadata": {},
     "output_type": "display_data"
    },
    {
     "name": "stdout",
     "output_type": "stream",
     "text": [
      "\n",
      "Epoch 12/50 \t Learning rate: 0.00073 \t Train total_loss: 0.00293 \t * Val_PSNR: 25.52 \t Time: 111.7978 \t Total time: 111.7978\n",
      "\n",
      "Epoch 13/50\n"
     ]
    },
    {
     "data": {
      "application/vnd.jupyter.widget-view+json": {
       "model_id": "05a9c03295404547988507fed6b420ec",
       "version_major": 2,
       "version_minor": 0
      },
      "text/plain": [
       "HBox(children=(HTML(value=''), FloatProgress(value=1.0, bar_style='info', layout=Layout(width='20px'), max=1.0…"
      ]
     },
     "metadata": {},
     "output_type": "display_data"
    },
    {
     "name": "stdout",
     "output_type": "stream",
     "text": [
      "\n"
     ]
    },
    {
     "data": {
      "application/vnd.jupyter.widget-view+json": {
       "model_id": "67aa54d0177c469e91a21841d56f57bc",
       "version_major": 2,
       "version_minor": 0
      },
      "text/plain": [
       "HBox(children=(HTML(value=''), FloatProgress(value=1.0, bar_style='info', layout=Layout(width='20px'), max=1.0…"
      ]
     },
     "metadata": {},
     "output_type": "display_data"
    },
    {
     "name": "stdout",
     "output_type": "stream",
     "text": [
      "\n",
      "Epoch 13/50 \t Learning rate: 0.00071 \t Train total_loss: 0.00309 \t * Val_PSNR: 25.61 \t Time: 112.0765 \t Total time: 112.0765\n",
      "\n",
      "Epoch 14/50\n"
     ]
    },
    {
     "data": {
      "application/vnd.jupyter.widget-view+json": {
       "model_id": "4ffec9874799443ebe7349fa04b9f5f4",
       "version_major": 2,
       "version_minor": 0
      },
      "text/plain": [
       "HBox(children=(HTML(value=''), FloatProgress(value=1.0, bar_style='info', layout=Layout(width='20px'), max=1.0…"
      ]
     },
     "metadata": {},
     "output_type": "display_data"
    },
    {
     "name": "stdout",
     "output_type": "stream",
     "text": [
      "\n"
     ]
    },
    {
     "data": {
      "application/vnd.jupyter.widget-view+json": {
       "model_id": "b1c40e21a64f4a40a7ccda556c28ea3e",
       "version_major": 2,
       "version_minor": 0
      },
      "text/plain": [
       "HBox(children=(HTML(value=''), FloatProgress(value=1.0, bar_style='info', layout=Layout(width='20px'), max=1.0…"
      ]
     },
     "metadata": {},
     "output_type": "display_data"
    },
    {
     "name": "stdout",
     "output_type": "stream",
     "text": [
      "\n",
      "Epoch 14/50 \t Learning rate: 0.00070 \t Train total_loss: 0.00294 \t * Val_PSNR: 25.62 \t Time: 111.7090 \t Total time: 111.7090\n",
      "\n",
      "Epoch 15/50\n"
     ]
    },
    {
     "data": {
      "application/vnd.jupyter.widget-view+json": {
       "model_id": "42ee244e57094a73bcc99783aec423af",
       "version_major": 2,
       "version_minor": 0
      },
      "text/plain": [
       "HBox(children=(HTML(value=''), FloatProgress(value=1.0, bar_style='info', layout=Layout(width='20px'), max=1.0…"
      ]
     },
     "metadata": {},
     "output_type": "display_data"
    },
    {
     "name": "stdout",
     "output_type": "stream",
     "text": [
      "\n"
     ]
    },
    {
     "data": {
      "application/vnd.jupyter.widget-view+json": {
       "model_id": "0a037cb86cb147d4be5f7b24cb2ff9c4",
       "version_major": 2,
       "version_minor": 0
      },
      "text/plain": [
       "HBox(children=(HTML(value=''), FloatProgress(value=1.0, bar_style='info', layout=Layout(width='20px'), max=1.0…"
      ]
     },
     "metadata": {},
     "output_type": "display_data"
    },
    {
     "name": "stdout",
     "output_type": "stream",
     "text": [
      "\n",
      "Epoch 15/50 \t Learning rate: 0.00068 \t Train total_loss: 0.00285 \t * Val_PSNR: 25.65 \t Time: 111.9058 \t Total time: 111.9058\n",
      "\n",
      "Epoch 16/50\n"
     ]
    },
    {
     "data": {
      "application/vnd.jupyter.widget-view+json": {
       "model_id": "afd35c1b1a50408093662119a9ef6a5c",
       "version_major": 2,
       "version_minor": 0
      },
      "text/plain": [
       "HBox(children=(HTML(value=''), FloatProgress(value=1.0, bar_style='info', layout=Layout(width='20px'), max=1.0…"
      ]
     },
     "metadata": {},
     "output_type": "display_data"
    },
    {
     "name": "stdout",
     "output_type": "stream",
     "text": [
      "\n"
     ]
    },
    {
     "data": {
      "application/vnd.jupyter.widget-view+json": {
       "model_id": "f8d6d9f126b74043842e8aa5ae565bb4",
       "version_major": 2,
       "version_minor": 0
      },
      "text/plain": [
       "HBox(children=(HTML(value=''), FloatProgress(value=1.0, bar_style='info', layout=Layout(width='20px'), max=1.0…"
      ]
     },
     "metadata": {},
     "output_type": "display_data"
    },
    {
     "name": "stdout",
     "output_type": "stream",
     "text": [
      "\n",
      "Epoch 16/50 \t Learning rate: 0.00067 \t Train total_loss: 0.00265 \t * Val_PSNR: 25.64 \t Time: 111.8690 \t Total time: 111.8690\n",
      "\n",
      "Epoch 17/50\n"
     ]
    },
    {
     "data": {
      "application/vnd.jupyter.widget-view+json": {
       "model_id": "5eac6efc0bad4241b9e12e38b6760d17",
       "version_major": 2,
       "version_minor": 0
      },
      "text/plain": [
       "HBox(children=(HTML(value=''), FloatProgress(value=1.0, bar_style='info', layout=Layout(width='20px'), max=1.0…"
      ]
     },
     "metadata": {},
     "output_type": "display_data"
    },
    {
     "name": "stdout",
     "output_type": "stream",
     "text": [
      "\n"
     ]
    },
    {
     "data": {
      "application/vnd.jupyter.widget-view+json": {
       "model_id": "e8d15a4f74cd42e1b218bf14675cac9e",
       "version_major": 2,
       "version_minor": 0
      },
      "text/plain": [
       "HBox(children=(HTML(value=''), FloatProgress(value=1.0, bar_style='info', layout=Layout(width='20px'), max=1.0…"
      ]
     },
     "metadata": {},
     "output_type": "display_data"
    },
    {
     "name": "stdout",
     "output_type": "stream",
     "text": [
      "\n",
      "Epoch 17/50 \t Learning rate: 0.00065 \t Train total_loss: 0.00276 \t * Val_PSNR: 25.68 \t Time: 111.5039 \t Total time: 111.5039\n",
      "\n",
      "Epoch 18/50\n"
     ]
    },
    {
     "data": {
      "application/vnd.jupyter.widget-view+json": {
       "model_id": "1df0232ee81d4c05affb1288ea5e5599",
       "version_major": 2,
       "version_minor": 0
      },
      "text/plain": [
       "HBox(children=(HTML(value=''), FloatProgress(value=1.0, bar_style='info', layout=Layout(width='20px'), max=1.0…"
      ]
     },
     "metadata": {},
     "output_type": "display_data"
    },
    {
     "name": "stdout",
     "output_type": "stream",
     "text": [
      "\n"
     ]
    },
    {
     "data": {
      "application/vnd.jupyter.widget-view+json": {
       "model_id": "f0d6f5a0706d4e88963d81c66b2a5e19",
       "version_major": 2,
       "version_minor": 0
      },
      "text/plain": [
       "HBox(children=(HTML(value=''), FloatProgress(value=1.0, bar_style='info', layout=Layout(width='20px'), max=1.0…"
      ]
     },
     "metadata": {},
     "output_type": "display_data"
    },
    {
     "name": "stdout",
     "output_type": "stream",
     "text": [
      "\n",
      "Epoch 18/50 \t Learning rate: 0.00064 \t Train total_loss: 0.00279 \t * Val_PSNR: 25.69 \t Time: 111.5697 \t Total time: 111.5697\n",
      "\n",
      "Epoch 19/50\n"
     ]
    },
    {
     "data": {
      "application/vnd.jupyter.widget-view+json": {
       "model_id": "c8f57f22791f437ba480e49fd1428393",
       "version_major": 2,
       "version_minor": 0
      },
      "text/plain": [
       "HBox(children=(HTML(value=''), FloatProgress(value=1.0, bar_style='info', layout=Layout(width='20px'), max=1.0…"
      ]
     },
     "metadata": {},
     "output_type": "display_data"
    },
    {
     "name": "stdout",
     "output_type": "stream",
     "text": [
      "\n"
     ]
    },
    {
     "data": {
      "application/vnd.jupyter.widget-view+json": {
       "model_id": "51c1b47323ca4268a4e9855ece2bbb91",
       "version_major": 2,
       "version_minor": 0
      },
      "text/plain": [
       "HBox(children=(HTML(value=''), FloatProgress(value=1.0, bar_style='info', layout=Layout(width='20px'), max=1.0…"
      ]
     },
     "metadata": {},
     "output_type": "display_data"
    },
    {
     "name": "stdout",
     "output_type": "stream",
     "text": [
      "\n",
      "Epoch 19/50 \t Learning rate: 0.00063 \t Train total_loss: 0.00278 \t * Val_PSNR: 25.71 \t Time: 111.9425 \t Total time: 111.9425\n",
      "\n",
      "Epoch 20/50\n"
     ]
    },
    {
     "data": {
      "application/vnd.jupyter.widget-view+json": {
       "model_id": "422aa6e8820d404b9586271905c1e0a5",
       "version_major": 2,
       "version_minor": 0
      },
      "text/plain": [
       "HBox(children=(HTML(value=''), FloatProgress(value=1.0, bar_style='info', layout=Layout(width='20px'), max=1.0…"
      ]
     },
     "metadata": {},
     "output_type": "display_data"
    },
    {
     "name": "stdout",
     "output_type": "stream",
     "text": [
      "\n"
     ]
    },
    {
     "data": {
      "application/vnd.jupyter.widget-view+json": {
       "model_id": "3b8ee70d156d4540be33082776f377ed",
       "version_major": 2,
       "version_minor": 0
      },
      "text/plain": [
       "HBox(children=(HTML(value=''), FloatProgress(value=1.0, bar_style='info', layout=Layout(width='20px'), max=1.0…"
      ]
     },
     "metadata": {},
     "output_type": "display_data"
    },
    {
     "name": "stdout",
     "output_type": "stream",
     "text": [
      "\n",
      "Epoch 20/50 \t Learning rate: 0.00061 \t Train total_loss: 0.00264 \t * Val_PSNR: 25.70 \t Time: 112.0248 \t Total time: 112.0248\n",
      "\n",
      "Epoch 21/50\n"
     ]
    },
    {
     "data": {
      "application/vnd.jupyter.widget-view+json": {
       "model_id": "9c2d60a24aa348eab345c35dc12cd2bb",
       "version_major": 2,
       "version_minor": 0
      },
      "text/plain": [
       "HBox(children=(HTML(value=''), FloatProgress(value=1.0, bar_style='info', layout=Layout(width='20px'), max=1.0…"
      ]
     },
     "metadata": {},
     "output_type": "display_data"
    },
    {
     "name": "stdout",
     "output_type": "stream",
     "text": [
      "\n"
     ]
    },
    {
     "data": {
      "application/vnd.jupyter.widget-view+json": {
       "model_id": "aa8a006644664b7fac8f5e1fde939984",
       "version_major": 2,
       "version_minor": 0
      },
      "text/plain": [
       "HBox(children=(HTML(value=''), FloatProgress(value=1.0, bar_style='info', layout=Layout(width='20px'), max=1.0…"
      ]
     },
     "metadata": {},
     "output_type": "display_data"
    },
    {
     "name": "stdout",
     "output_type": "stream",
     "text": [
      "\n",
      "Epoch 21/50 \t Learning rate: 0.00060 \t Train total_loss: 0.00267 \t * Val_PSNR: 25.71 \t Time: 111.8663 \t Total time: 111.8663\n",
      "\n",
      "Epoch 22/50\n"
     ]
    },
    {
     "data": {
      "application/vnd.jupyter.widget-view+json": {
       "model_id": "a7f6676c1a92432caef1ba0b83167b54",
       "version_major": 2,
       "version_minor": 0
      },
      "text/plain": [
       "HBox(children=(HTML(value=''), FloatProgress(value=1.0, bar_style='info', layout=Layout(width='20px'), max=1.0…"
      ]
     },
     "metadata": {},
     "output_type": "display_data"
    },
    {
     "name": "stdout",
     "output_type": "stream",
     "text": [
      "\n"
     ]
    },
    {
     "data": {
      "application/vnd.jupyter.widget-view+json": {
       "model_id": "27e2f1f38fbb4f969d8a9c814dab53b0",
       "version_major": 2,
       "version_minor": 0
      },
      "text/plain": [
       "HBox(children=(HTML(value=''), FloatProgress(value=1.0, bar_style='info', layout=Layout(width='20px'), max=1.0…"
      ]
     },
     "metadata": {},
     "output_type": "display_data"
    },
    {
     "name": "stdout",
     "output_type": "stream",
     "text": [
      "\n",
      "Epoch 22/50 \t Learning rate: 0.00059 \t Train total_loss: 0.00270 \t * Val_PSNR: 25.69 \t Time: 111.7823 \t Total time: 111.7823\n",
      "\n",
      "Epoch 23/50\n"
     ]
    },
    {
     "data": {
      "application/vnd.jupyter.widget-view+json": {
       "model_id": "6791d9f327984c39b0d31be7383ae14d",
       "version_major": 2,
       "version_minor": 0
      },
      "text/plain": [
       "HBox(children=(HTML(value=''), FloatProgress(value=1.0, bar_style='info', layout=Layout(width='20px'), max=1.0…"
      ]
     },
     "metadata": {},
     "output_type": "display_data"
    },
    {
     "name": "stdout",
     "output_type": "stream",
     "text": [
      "\n"
     ]
    },
    {
     "data": {
      "application/vnd.jupyter.widget-view+json": {
       "model_id": "e4722f9c5d4c4a529998cf971331dc03",
       "version_major": 2,
       "version_minor": 0
      },
      "text/plain": [
       "HBox(children=(HTML(value=''), FloatProgress(value=1.0, bar_style='info', layout=Layout(width='20px'), max=1.0…"
      ]
     },
     "metadata": {},
     "output_type": "display_data"
    },
    {
     "name": "stdout",
     "output_type": "stream",
     "text": [
      "\n",
      "Epoch 23/50 \t Learning rate: 0.00058 \t Train total_loss: 0.00258 \t * Val_PSNR: 25.71 \t Time: 111.6917 \t Total time: 111.6917\n",
      "\n",
      "Epoch 24/50\n"
     ]
    },
    {
     "data": {
      "application/vnd.jupyter.widget-view+json": {
       "model_id": "4d843c82e99644fcb8797cc682fdcb4a",
       "version_major": 2,
       "version_minor": 0
      },
      "text/plain": [
       "HBox(children=(HTML(value=''), FloatProgress(value=1.0, bar_style='info', layout=Layout(width='20px'), max=1.0…"
      ]
     },
     "metadata": {},
     "output_type": "display_data"
    },
    {
     "name": "stdout",
     "output_type": "stream",
     "text": [
      "\n"
     ]
    },
    {
     "data": {
      "application/vnd.jupyter.widget-view+json": {
       "model_id": "148f25a8efa1415cb2391c52b7dc1e69",
       "version_major": 2,
       "version_minor": 0
      },
      "text/plain": [
       "HBox(children=(HTML(value=''), FloatProgress(value=1.0, bar_style='info', layout=Layout(width='20px'), max=1.0…"
      ]
     },
     "metadata": {},
     "output_type": "display_data"
    },
    {
     "name": "stdout",
     "output_type": "stream",
     "text": [
      "\n",
      "Epoch 24/50 \t Learning rate: 0.00057 \t Train total_loss: 0.00262 \t * Val_PSNR: 25.75 \t Time: 111.3357 \t Total time: 111.3357\n",
      "\n",
      "Epoch 25/50\n"
     ]
    },
    {
     "data": {
      "application/vnd.jupyter.widget-view+json": {
       "model_id": "3c29c4d889e84ab7b337d35a3958669b",
       "version_major": 2,
       "version_minor": 0
      },
      "text/plain": [
       "HBox(children=(HTML(value=''), FloatProgress(value=1.0, bar_style='info', layout=Layout(width='20px'), max=1.0…"
      ]
     },
     "metadata": {},
     "output_type": "display_data"
    },
    {
     "name": "stdout",
     "output_type": "stream",
     "text": [
      "\n"
     ]
    },
    {
     "data": {
      "application/vnd.jupyter.widget-view+json": {
       "model_id": "fdc131d9df944c64ab4ff4e5e0a0101d",
       "version_major": 2,
       "version_minor": 0
      },
      "text/plain": [
       "HBox(children=(HTML(value=''), FloatProgress(value=1.0, bar_style='info', layout=Layout(width='20px'), max=1.0…"
      ]
     },
     "metadata": {},
     "output_type": "display_data"
    },
    {
     "name": "stdout",
     "output_type": "stream",
     "text": [
      "\n",
      "Epoch 25/50 \t Learning rate: 0.00056 \t Train total_loss: 0.00268 \t * Val_PSNR: 25.75 \t Time: 111.8443 \t Total time: 111.8443\n",
      "\n",
      "Epoch 26/50\n"
     ]
    },
    {
     "data": {
      "application/vnd.jupyter.widget-view+json": {
       "model_id": "eccb67b284434ef182d8b8b7c175848b",
       "version_major": 2,
       "version_minor": 0
      },
      "text/plain": [
       "HBox(children=(HTML(value=''), FloatProgress(value=1.0, bar_style='info', layout=Layout(width='20px'), max=1.0…"
      ]
     },
     "metadata": {},
     "output_type": "display_data"
    },
    {
     "name": "stdout",
     "output_type": "stream",
     "text": [
      "\n"
     ]
    },
    {
     "data": {
      "application/vnd.jupyter.widget-view+json": {
       "model_id": "6313e257769d4b11816523069ed157e4",
       "version_major": 2,
       "version_minor": 0
      },
      "text/plain": [
       "HBox(children=(HTML(value=''), FloatProgress(value=1.0, bar_style='info', layout=Layout(width='20px'), max=1.0…"
      ]
     },
     "metadata": {},
     "output_type": "display_data"
    },
    {
     "name": "stdout",
     "output_type": "stream",
     "text": [
      "\n",
      "Epoch 26/50 \t Learning rate: 0.00055 \t Train total_loss: 0.00268 \t * Val_PSNR: 25.75 \t Time: 111.7227 \t Total time: 111.7227\n",
      "\n",
      "Epoch 27/50\n"
     ]
    },
    {
     "data": {
      "application/vnd.jupyter.widget-view+json": {
       "model_id": "1d221584b41d44008edc87fb048e5561",
       "version_major": 2,
       "version_minor": 0
      },
      "text/plain": [
       "HBox(children=(HTML(value=''), FloatProgress(value=1.0, bar_style='info', layout=Layout(width='20px'), max=1.0…"
      ]
     },
     "metadata": {},
     "output_type": "display_data"
    },
    {
     "name": "stdout",
     "output_type": "stream",
     "text": [
      "\n"
     ]
    },
    {
     "data": {
      "application/vnd.jupyter.widget-view+json": {
       "model_id": "bcc3e6d4df6e496eadc63db34a65efa9",
       "version_major": 2,
       "version_minor": 0
      },
      "text/plain": [
       "HBox(children=(HTML(value=''), FloatProgress(value=1.0, bar_style='info', layout=Layout(width='20px'), max=1.0…"
      ]
     },
     "metadata": {},
     "output_type": "display_data"
    },
    {
     "name": "stdout",
     "output_type": "stream",
     "text": [
      "\n",
      "Epoch 27/50 \t Learning rate: 0.00054 \t Train total_loss: 0.00270 \t * Val_PSNR: 25.77 \t Time: 111.6222 \t Total time: 111.6222\n",
      "\n",
      "Epoch 28/50\n"
     ]
    },
    {
     "data": {
      "application/vnd.jupyter.widget-view+json": {
       "model_id": "feb2c6fe36184cd08b29bb1f4be81ea0",
       "version_major": 2,
       "version_minor": 0
      },
      "text/plain": [
       "HBox(children=(HTML(value=''), FloatProgress(value=1.0, bar_style='info', layout=Layout(width='20px'), max=1.0…"
      ]
     },
     "metadata": {},
     "output_type": "display_data"
    },
    {
     "name": "stdout",
     "output_type": "stream",
     "text": [
      "\n"
     ]
    },
    {
     "data": {
      "application/vnd.jupyter.widget-view+json": {
       "model_id": "91dbc8dc6aff4528aa5a9bcc65866fa4",
       "version_major": 2,
       "version_minor": 0
      },
      "text/plain": [
       "HBox(children=(HTML(value=''), FloatProgress(value=1.0, bar_style='info', layout=Layout(width='20px'), max=1.0…"
      ]
     },
     "metadata": {},
     "output_type": "display_data"
    },
    {
     "name": "stdout",
     "output_type": "stream",
     "text": [
      "\n",
      "Epoch 28/50 \t Learning rate: 0.00053 \t Train total_loss: 0.00270 \t * Val_PSNR: 25.76 \t Time: 111.6389 \t Total time: 111.6389\n",
      "\n",
      "Epoch 29/50\n"
     ]
    },
    {
     "data": {
      "application/vnd.jupyter.widget-view+json": {
       "model_id": "031568e9e3394b93a15da13265e71a92",
       "version_major": 2,
       "version_minor": 0
      },
      "text/plain": [
       "HBox(children=(HTML(value=''), FloatProgress(value=1.0, bar_style='info', layout=Layout(width='20px'), max=1.0…"
      ]
     },
     "metadata": {},
     "output_type": "display_data"
    },
    {
     "name": "stdout",
     "output_type": "stream",
     "text": [
      "\n"
     ]
    },
    {
     "data": {
      "application/vnd.jupyter.widget-view+json": {
       "model_id": "5297ebb4b80249eea26838a90dbe1b3a",
       "version_major": 2,
       "version_minor": 0
      },
      "text/plain": [
       "HBox(children=(HTML(value=''), FloatProgress(value=1.0, bar_style='info', layout=Layout(width='20px'), max=1.0…"
      ]
     },
     "metadata": {},
     "output_type": "display_data"
    },
    {
     "name": "stdout",
     "output_type": "stream",
     "text": [
      "\n",
      "Epoch 29/50 \t Learning rate: 0.00052 \t Train total_loss: 0.00260 \t * Val_PSNR: 25.79 \t Time: 111.5310 \t Total time: 111.5310\n",
      "\n",
      "Epoch 30/50\n"
     ]
    },
    {
     "data": {
      "application/vnd.jupyter.widget-view+json": {
       "model_id": "b308636f48804d77bc393d32a37fbb62",
       "version_major": 2,
       "version_minor": 0
      },
      "text/plain": [
       "HBox(children=(HTML(value=''), FloatProgress(value=1.0, bar_style='info', layout=Layout(width='20px'), max=1.0…"
      ]
     },
     "metadata": {},
     "output_type": "display_data"
    },
    {
     "name": "stdout",
     "output_type": "stream",
     "text": [
      "\n"
     ]
    },
    {
     "data": {
      "application/vnd.jupyter.widget-view+json": {
       "model_id": "03ff9bad8d1548f4806ab148bf53f4be",
       "version_major": 2,
       "version_minor": 0
      },
      "text/plain": [
       "HBox(children=(HTML(value=''), FloatProgress(value=1.0, bar_style='info', layout=Layout(width='20px'), max=1.0…"
      ]
     },
     "metadata": {},
     "output_type": "display_data"
    },
    {
     "name": "stdout",
     "output_type": "stream",
     "text": [
      "\n",
      "Epoch 30/50 \t Learning rate: 0.00051 \t Train total_loss: 0.00262 \t * Val_PSNR: 25.80 \t Time: 111.6646 \t Total time: 111.6646\n",
      "\n",
      "Epoch 31/50\n"
     ]
    },
    {
     "data": {
      "application/vnd.jupyter.widget-view+json": {
       "model_id": "ae96c5dfe50c42e4bf07960aa9b049e6",
       "version_major": 2,
       "version_minor": 0
      },
      "text/plain": [
       "HBox(children=(HTML(value=''), FloatProgress(value=1.0, bar_style='info', layout=Layout(width='20px'), max=1.0…"
      ]
     },
     "metadata": {},
     "output_type": "display_data"
    },
    {
     "name": "stdout",
     "output_type": "stream",
     "text": [
      "\n"
     ]
    },
    {
     "data": {
      "application/vnd.jupyter.widget-view+json": {
       "model_id": "66fa1926c8ba430bb35ecd2d1debc9d6",
       "version_major": 2,
       "version_minor": 0
      },
      "text/plain": [
       "HBox(children=(HTML(value=''), FloatProgress(value=1.0, bar_style='info', layout=Layout(width='20px'), max=1.0…"
      ]
     },
     "metadata": {},
     "output_type": "display_data"
    },
    {
     "name": "stdout",
     "output_type": "stream",
     "text": [
      "\n",
      "Epoch 31/50 \t Learning rate: 0.00050 \t Train total_loss: 0.00260 \t * Val_PSNR: 25.82 \t Time: 111.9531 \t Total time: 111.9531\n",
      "\n",
      "Epoch 32/50\n"
     ]
    },
    {
     "data": {
      "application/vnd.jupyter.widget-view+json": {
       "model_id": "41e6a551324f4107a6e831e905cd78d1",
       "version_major": 2,
       "version_minor": 0
      },
      "text/plain": [
       "HBox(children=(HTML(value=''), FloatProgress(value=1.0, bar_style='info', layout=Layout(width='20px'), max=1.0…"
      ]
     },
     "metadata": {},
     "output_type": "display_data"
    },
    {
     "name": "stdout",
     "output_type": "stream",
     "text": [
      "\n"
     ]
    },
    {
     "data": {
      "application/vnd.jupyter.widget-view+json": {
       "model_id": "afd48f8efe8c452384dbdf062168f143",
       "version_major": 2,
       "version_minor": 0
      },
      "text/plain": [
       "HBox(children=(HTML(value=''), FloatProgress(value=1.0, bar_style='info', layout=Layout(width='20px'), max=1.0…"
      ]
     },
     "metadata": {},
     "output_type": "display_data"
    },
    {
     "name": "stdout",
     "output_type": "stream",
     "text": [
      "\n",
      "Epoch 32/50 \t Learning rate: 0.00049 \t Train total_loss: 0.00253 \t * Val_PSNR: 25.77 \t Time: 111.8716 \t Total time: 111.8716\n",
      "\n",
      "Epoch 33/50\n"
     ]
    },
    {
     "data": {
      "application/vnd.jupyter.widget-view+json": {
       "model_id": "32667b2d54f8426f8a30fdb7a3f5f2cb",
       "version_major": 2,
       "version_minor": 0
      },
      "text/plain": [
       "HBox(children=(HTML(value=''), FloatProgress(value=1.0, bar_style='info', layout=Layout(width='20px'), max=1.0…"
      ]
     },
     "metadata": {},
     "output_type": "display_data"
    },
    {
     "name": "stdout",
     "output_type": "stream",
     "text": [
      "\n"
     ]
    },
    {
     "data": {
      "application/vnd.jupyter.widget-view+json": {
       "model_id": "c9231a92d7ee481b8d9455f75fdda127",
       "version_major": 2,
       "version_minor": 0
      },
      "text/plain": [
       "HBox(children=(HTML(value=''), FloatProgress(value=1.0, bar_style='info', layout=Layout(width='20px'), max=1.0…"
      ]
     },
     "metadata": {},
     "output_type": "display_data"
    },
    {
     "name": "stdout",
     "output_type": "stream",
     "text": [
      "\n",
      "Epoch 33/50 \t Learning rate: 0.00048 \t Train total_loss: 0.00255 \t * Val_PSNR: 25.82 \t Time: 111.8677 \t Total time: 111.8677\n",
      "\n",
      "Epoch 34/50\n"
     ]
    },
    {
     "data": {
      "application/vnd.jupyter.widget-view+json": {
       "model_id": "293601e8e17942e49c7d81a38d033836",
       "version_major": 2,
       "version_minor": 0
      },
      "text/plain": [
       "HBox(children=(HTML(value=''), FloatProgress(value=1.0, bar_style='info', layout=Layout(width='20px'), max=1.0…"
      ]
     },
     "metadata": {},
     "output_type": "display_data"
    },
    {
     "name": "stdout",
     "output_type": "stream",
     "text": [
      "\n"
     ]
    },
    {
     "data": {
      "application/vnd.jupyter.widget-view+json": {
       "model_id": "b905432e3f294325b0a6d3802cf19b98",
       "version_major": 2,
       "version_minor": 0
      },
      "text/plain": [
       "HBox(children=(HTML(value=''), FloatProgress(value=1.0, bar_style='info', layout=Layout(width='20px'), max=1.0…"
      ]
     },
     "metadata": {},
     "output_type": "display_data"
    },
    {
     "name": "stdout",
     "output_type": "stream",
     "text": [
      "\n",
      "Epoch 34/50 \t Learning rate: 0.00048 \t Train total_loss: 0.00252 \t * Val_PSNR: 25.79 \t Time: 111.8092 \t Total time: 111.8092\n",
      "\n",
      "Epoch 35/50\n"
     ]
    },
    {
     "data": {
      "application/vnd.jupyter.widget-view+json": {
       "model_id": "c01871e024a0401dbebf81f2460b34d4",
       "version_major": 2,
       "version_minor": 0
      },
      "text/plain": [
       "HBox(children=(HTML(value=''), FloatProgress(value=1.0, bar_style='info', layout=Layout(width='20px'), max=1.0…"
      ]
     },
     "metadata": {},
     "output_type": "display_data"
    },
    {
     "name": "stdout",
     "output_type": "stream",
     "text": [
      "\n"
     ]
    },
    {
     "data": {
      "application/vnd.jupyter.widget-view+json": {
       "model_id": "8e8a59c9cb4043e98950f17c2e39fa50",
       "version_major": 2,
       "version_minor": 0
      },
      "text/plain": [
       "HBox(children=(HTML(value=''), FloatProgress(value=1.0, bar_style='info', layout=Layout(width='20px'), max=1.0…"
      ]
     },
     "metadata": {},
     "output_type": "display_data"
    },
    {
     "name": "stdout",
     "output_type": "stream",
     "text": [
      "\n",
      "Epoch 35/50 \t Learning rate: 0.00047 \t Train total_loss: 0.00263 \t * Val_PSNR: 25.85 \t Time: 111.5572 \t Total time: 111.5572\n",
      "\n",
      "Epoch 36/50\n"
     ]
    },
    {
     "data": {
      "application/vnd.jupyter.widget-view+json": {
       "model_id": "60e9a6f74b1446f8a551652a99c3d3e9",
       "version_major": 2,
       "version_minor": 0
      },
      "text/plain": [
       "HBox(children=(HTML(value=''), FloatProgress(value=1.0, bar_style='info', layout=Layout(width='20px'), max=1.0…"
      ]
     },
     "metadata": {},
     "output_type": "display_data"
    },
    {
     "name": "stdout",
     "output_type": "stream",
     "text": [
      "\n"
     ]
    },
    {
     "data": {
      "application/vnd.jupyter.widget-view+json": {
       "model_id": "460deb07022d4e22924a34a6ffbf38a9",
       "version_major": 2,
       "version_minor": 0
      },
      "text/plain": [
       "HBox(children=(HTML(value=''), FloatProgress(value=1.0, bar_style='info', layout=Layout(width='20px'), max=1.0…"
      ]
     },
     "metadata": {},
     "output_type": "display_data"
    },
    {
     "name": "stdout",
     "output_type": "stream",
     "text": [
      "\n",
      "Epoch 36/50 \t Learning rate: 0.00046 \t Train total_loss: 0.00251 \t * Val_PSNR: 25.83 \t Time: 111.5509 \t Total time: 111.5509\n",
      "\n",
      "Epoch 37/50\n"
     ]
    },
    {
     "data": {
      "application/vnd.jupyter.widget-view+json": {
       "model_id": "98e9f19397914e9db02819f11411a8ba",
       "version_major": 2,
       "version_minor": 0
      },
      "text/plain": [
       "HBox(children=(HTML(value=''), FloatProgress(value=1.0, bar_style='info', layout=Layout(width='20px'), max=1.0…"
      ]
     },
     "metadata": {},
     "output_type": "display_data"
    },
    {
     "name": "stdout",
     "output_type": "stream",
     "text": [
      "\n"
     ]
    },
    {
     "data": {
      "application/vnd.jupyter.widget-view+json": {
       "model_id": "42a13304bde048f1abc8b04cac117b48",
       "version_major": 2,
       "version_minor": 0
      },
      "text/plain": [
       "HBox(children=(HTML(value=''), FloatProgress(value=1.0, bar_style='info', layout=Layout(width='20px'), max=1.0…"
      ]
     },
     "metadata": {},
     "output_type": "display_data"
    },
    {
     "name": "stdout",
     "output_type": "stream",
     "text": [
      "\n",
      "Epoch 37/50 \t Learning rate: 0.00045 \t Train total_loss: 0.00259 \t * Val_PSNR: 25.83 \t Time: 111.8977 \t Total time: 111.8977\n",
      "\n",
      "Epoch 38/50\n"
     ]
    },
    {
     "data": {
      "application/vnd.jupyter.widget-view+json": {
       "model_id": "93bd1fb7470d4c7a91fef1e2f6f4e00c",
       "version_major": 2,
       "version_minor": 0
      },
      "text/plain": [
       "HBox(children=(HTML(value=''), FloatProgress(value=1.0, bar_style='info', layout=Layout(width='20px'), max=1.0…"
      ]
     },
     "metadata": {},
     "output_type": "display_data"
    },
    {
     "name": "stdout",
     "output_type": "stream",
     "text": [
      "\n"
     ]
    },
    {
     "data": {
      "application/vnd.jupyter.widget-view+json": {
       "model_id": "f1a94954556545dc905269afe7da3728",
       "version_major": 2,
       "version_minor": 0
      },
      "text/plain": [
       "HBox(children=(HTML(value=''), FloatProgress(value=1.0, bar_style='info', layout=Layout(width='20px'), max=1.0…"
      ]
     },
     "metadata": {},
     "output_type": "display_data"
    },
    {
     "name": "stdout",
     "output_type": "stream",
     "text": [
      "\n",
      "Epoch 38/50 \t Learning rate: 0.00045 \t Train total_loss: 0.00257 \t * Val_PSNR: 25.87 \t Time: 112.0442 \t Total time: 112.0442\n",
      "\n",
      "Epoch 39/50\n"
     ]
    },
    {
     "data": {
      "application/vnd.jupyter.widget-view+json": {
       "model_id": "ab107061363442e782558ca799b18e7a",
       "version_major": 2,
       "version_minor": 0
      },
      "text/plain": [
       "HBox(children=(HTML(value=''), FloatProgress(value=1.0, bar_style='info', layout=Layout(width='20px'), max=1.0…"
      ]
     },
     "metadata": {},
     "output_type": "display_data"
    },
    {
     "name": "stdout",
     "output_type": "stream",
     "text": [
      "\n"
     ]
    },
    {
     "data": {
      "application/vnd.jupyter.widget-view+json": {
       "model_id": "fde7b4d408db4e769050f7fd580d41bc",
       "version_major": 2,
       "version_minor": 0
      },
      "text/plain": [
       "HBox(children=(HTML(value=''), FloatProgress(value=1.0, bar_style='info', layout=Layout(width='20px'), max=1.0…"
      ]
     },
     "metadata": {},
     "output_type": "display_data"
    },
    {
     "name": "stdout",
     "output_type": "stream",
     "text": [
      "\n",
      "Epoch 39/50 \t Learning rate: 0.00044 \t Train total_loss: 0.00254 \t * Val_PSNR: 25.87 \t Time: 111.7847 \t Total time: 111.7847\n",
      "\n",
      "Epoch 40/50\n"
     ]
    },
    {
     "data": {
      "application/vnd.jupyter.widget-view+json": {
       "model_id": "903df88ed2274f71a78a040efe0486df",
       "version_major": 2,
       "version_minor": 0
      },
      "text/plain": [
       "HBox(children=(HTML(value=''), FloatProgress(value=1.0, bar_style='info', layout=Layout(width='20px'), max=1.0…"
      ]
     },
     "metadata": {},
     "output_type": "display_data"
    },
    {
     "name": "stdout",
     "output_type": "stream",
     "text": [
      "\n"
     ]
    },
    {
     "data": {
      "application/vnd.jupyter.widget-view+json": {
       "model_id": "19b29fe6c44e487d9495fe196808e9a3",
       "version_major": 2,
       "version_minor": 0
      },
      "text/plain": [
       "HBox(children=(HTML(value=''), FloatProgress(value=1.0, bar_style='info', layout=Layout(width='20px'), max=1.0…"
      ]
     },
     "metadata": {},
     "output_type": "display_data"
    },
    {
     "name": "stdout",
     "output_type": "stream",
     "text": [
      "\n",
      "Epoch 40/50 \t Learning rate: 0.00043 \t Train total_loss: 0.00252 \t * Val_PSNR: 25.87 \t Time: 111.7561 \t Total time: 111.7561\n",
      "\n",
      "Epoch 41/50\n"
     ]
    },
    {
     "data": {
      "application/vnd.jupyter.widget-view+json": {
       "model_id": "831494a0eb7e4cc4924e6629d5249c97",
       "version_major": 2,
       "version_minor": 0
      },
      "text/plain": [
       "HBox(children=(HTML(value=''), FloatProgress(value=1.0, bar_style='info', layout=Layout(width='20px'), max=1.0…"
      ]
     },
     "metadata": {},
     "output_type": "display_data"
    },
    {
     "name": "stdout",
     "output_type": "stream",
     "text": [
      "\n"
     ]
    },
    {
     "data": {
      "application/vnd.jupyter.widget-view+json": {
       "model_id": "58612d1e65c4425f841e885da33cff3e",
       "version_major": 2,
       "version_minor": 0
      },
      "text/plain": [
       "HBox(children=(HTML(value=''), FloatProgress(value=1.0, bar_style='info', layout=Layout(width='20px'), max=1.0…"
      ]
     },
     "metadata": {},
     "output_type": "display_data"
    },
    {
     "name": "stdout",
     "output_type": "stream",
     "text": [
      "\n",
      "Epoch 41/50 \t Learning rate: 0.00043 \t Train total_loss: 0.00261 \t * Val_PSNR: 25.88 \t Time: 111.8023 \t Total time: 111.8023\n",
      "\n",
      "Epoch 42/50\n"
     ]
    },
    {
     "data": {
      "application/vnd.jupyter.widget-view+json": {
       "model_id": "7accd024cf024b1fbfba21cf18ed459d",
       "version_major": 2,
       "version_minor": 0
      },
      "text/plain": [
       "HBox(children=(HTML(value=''), FloatProgress(value=1.0, bar_style='info', layout=Layout(width='20px'), max=1.0…"
      ]
     },
     "metadata": {},
     "output_type": "display_data"
    },
    {
     "name": "stdout",
     "output_type": "stream",
     "text": [
      "\n"
     ]
    },
    {
     "data": {
      "application/vnd.jupyter.widget-view+json": {
       "model_id": "597563cf49f14c8390e1e0b795828ba8",
       "version_major": 2,
       "version_minor": 0
      },
      "text/plain": [
       "HBox(children=(HTML(value=''), FloatProgress(value=1.0, bar_style='info', layout=Layout(width='20px'), max=1.0…"
      ]
     },
     "metadata": {},
     "output_type": "display_data"
    },
    {
     "name": "stdout",
     "output_type": "stream",
     "text": [
      "\n",
      "Epoch 42/50 \t Learning rate: 0.00042 \t Train total_loss: 0.00254 \t * Val_PSNR: 25.86 \t Time: 111.5835 \t Total time: 111.5835\n",
      "\n",
      "Epoch 43/50\n"
     ]
    },
    {
     "data": {
      "application/vnd.jupyter.widget-view+json": {
       "model_id": "e10e04918bf0471eac3f4191e3883d70",
       "version_major": 2,
       "version_minor": 0
      },
      "text/plain": [
       "HBox(children=(HTML(value=''), FloatProgress(value=1.0, bar_style='info', layout=Layout(width='20px'), max=1.0…"
      ]
     },
     "metadata": {},
     "output_type": "display_data"
    },
    {
     "name": "stdout",
     "output_type": "stream",
     "text": [
      "\n"
     ]
    },
    {
     "data": {
      "application/vnd.jupyter.widget-view+json": {
       "model_id": "47571f4f81844cffbae21df1cec7d64f",
       "version_major": 2,
       "version_minor": 0
      },
      "text/plain": [
       "HBox(children=(HTML(value=''), FloatProgress(value=1.0, bar_style='info', layout=Layout(width='20px'), max=1.0…"
      ]
     },
     "metadata": {},
     "output_type": "display_data"
    },
    {
     "name": "stdout",
     "output_type": "stream",
     "text": [
      "\n",
      "Epoch 43/50 \t Learning rate: 0.00042 \t Train total_loss: 0.00255 \t * Val_PSNR: 25.86 \t Time: 112.0824 \t Total time: 112.0824\n",
      "\n",
      "Epoch 44/50\n"
     ]
    },
    {
     "data": {
      "application/vnd.jupyter.widget-view+json": {
       "model_id": "6a8aea8b60a04309a676794c01b70efc",
       "version_major": 2,
       "version_minor": 0
      },
      "text/plain": [
       "HBox(children=(HTML(value=''), FloatProgress(value=1.0, bar_style='info', layout=Layout(width='20px'), max=1.0…"
      ]
     },
     "metadata": {},
     "output_type": "display_data"
    },
    {
     "name": "stdout",
     "output_type": "stream",
     "text": [
      "\n"
     ]
    },
    {
     "data": {
      "application/vnd.jupyter.widget-view+json": {
       "model_id": "1522712a8f8946ec9dd5f95a1d58a17b",
       "version_major": 2,
       "version_minor": 0
      },
      "text/plain": [
       "HBox(children=(HTML(value=''), FloatProgress(value=1.0, bar_style='info', layout=Layout(width='20px'), max=1.0…"
      ]
     },
     "metadata": {},
     "output_type": "display_data"
    },
    {
     "name": "stdout",
     "output_type": "stream",
     "text": [
      "\n",
      "Epoch 44/50 \t Learning rate: 0.00041 \t Train total_loss: 0.00244 \t * Val_PSNR: 25.80 \t Time: 111.7259 \t Total time: 111.7259\n",
      "\n",
      "Epoch 45/50\n"
     ]
    },
    {
     "data": {
      "application/vnd.jupyter.widget-view+json": {
       "model_id": "9b6e52894fe840b2866e4e318bc78cbc",
       "version_major": 2,
       "version_minor": 0
      },
      "text/plain": [
       "HBox(children=(HTML(value=''), FloatProgress(value=1.0, bar_style='info', layout=Layout(width='20px'), max=1.0…"
      ]
     },
     "metadata": {},
     "output_type": "display_data"
    },
    {
     "name": "stdout",
     "output_type": "stream",
     "text": [
      "\n"
     ]
    },
    {
     "data": {
      "application/vnd.jupyter.widget-view+json": {
       "model_id": "e0201b74e46b47eeba15c9f3684c70c2",
       "version_major": 2,
       "version_minor": 0
      },
      "text/plain": [
       "HBox(children=(HTML(value=''), FloatProgress(value=1.0, bar_style='info', layout=Layout(width='20px'), max=1.0…"
      ]
     },
     "metadata": {},
     "output_type": "display_data"
    },
    {
     "name": "stdout",
     "output_type": "stream",
     "text": [
      "\n",
      "Epoch 45/50 \t Learning rate: 0.00041 \t Train total_loss: 0.00255 \t * Val_PSNR: 25.91 \t Time: 111.9356 \t Total time: 111.9356\n",
      "\n",
      "Epoch 46/50\n"
     ]
    },
    {
     "data": {
      "application/vnd.jupyter.widget-view+json": {
       "model_id": "3f4f9be8c25243c9914699b663b3b798",
       "version_major": 2,
       "version_minor": 0
      },
      "text/plain": [
       "HBox(children=(HTML(value=''), FloatProgress(value=1.0, bar_style='info', layout=Layout(width='20px'), max=1.0…"
      ]
     },
     "metadata": {},
     "output_type": "display_data"
    },
    {
     "name": "stdout",
     "output_type": "stream",
     "text": [
      "\n"
     ]
    },
    {
     "data": {
      "application/vnd.jupyter.widget-view+json": {
       "model_id": "e3105000189e4bcbbfd7d9e24bd30393",
       "version_major": 2,
       "version_minor": 0
      },
      "text/plain": [
       "HBox(children=(HTML(value=''), FloatProgress(value=1.0, bar_style='info', layout=Layout(width='20px'), max=1.0…"
      ]
     },
     "metadata": {},
     "output_type": "display_data"
    },
    {
     "name": "stdout",
     "output_type": "stream",
     "text": [
      "\n",
      "Epoch 46/50 \t Learning rate: 0.00040 \t Train total_loss: 0.00254 \t * Val_PSNR: 25.88 \t Time: 112.3047 \t Total time: 112.3047\n",
      "\n",
      "Epoch 47/50\n"
     ]
    },
    {
     "data": {
      "application/vnd.jupyter.widget-view+json": {
       "model_id": "4f6ebe6ac3974d6babea30971c8146e1",
       "version_major": 2,
       "version_minor": 0
      },
      "text/plain": [
       "HBox(children=(HTML(value=''), FloatProgress(value=1.0, bar_style='info', layout=Layout(width='20px'), max=1.0…"
      ]
     },
     "metadata": {},
     "output_type": "display_data"
    },
    {
     "name": "stdout",
     "output_type": "stream",
     "text": [
      "\n"
     ]
    },
    {
     "data": {
      "application/vnd.jupyter.widget-view+json": {
       "model_id": "3351780917cc4b3ab5da3fbb31173106",
       "version_major": 2,
       "version_minor": 0
      },
      "text/plain": [
       "HBox(children=(HTML(value=''), FloatProgress(value=1.0, bar_style='info', layout=Layout(width='20px'), max=1.0…"
      ]
     },
     "metadata": {},
     "output_type": "display_data"
    },
    {
     "name": "stdout",
     "output_type": "stream",
     "text": [
      "\n",
      "Epoch 47/50 \t Learning rate: 0.00039 \t Train total_loss: 0.00245 \t * Val_PSNR: 25.91 \t Time: 111.6295 \t Total time: 111.6295\n",
      "\n",
      "Epoch 48/50\n"
     ]
    },
    {
     "data": {
      "application/vnd.jupyter.widget-view+json": {
       "model_id": "e2a7ef0ebbd542b29e9abea61eebbbc3",
       "version_major": 2,
       "version_minor": 0
      },
      "text/plain": [
       "HBox(children=(HTML(value=''), FloatProgress(value=1.0, bar_style='info', layout=Layout(width='20px'), max=1.0…"
      ]
     },
     "metadata": {},
     "output_type": "display_data"
    },
    {
     "name": "stdout",
     "output_type": "stream",
     "text": [
      "\n"
     ]
    },
    {
     "data": {
      "application/vnd.jupyter.widget-view+json": {
       "model_id": "b73472c12b2244a5a309e8ff26b546ee",
       "version_major": 2,
       "version_minor": 0
      },
      "text/plain": [
       "HBox(children=(HTML(value=''), FloatProgress(value=1.0, bar_style='info', layout=Layout(width='20px'), max=1.0…"
      ]
     },
     "metadata": {},
     "output_type": "display_data"
    },
    {
     "name": "stdout",
     "output_type": "stream",
     "text": [
      "\n",
      "Epoch 48/50 \t Learning rate: 0.00039 \t Train total_loss: 0.00246 \t * Val_PSNR: 25.87 \t Time: 111.7266 \t Total time: 111.7266\n",
      "\n",
      "Epoch 49/50\n"
     ]
    },
    {
     "data": {
      "application/vnd.jupyter.widget-view+json": {
       "model_id": "d69731b5fe2d4451b3187ca40e403cd2",
       "version_major": 2,
       "version_minor": 0
      },
      "text/plain": [
       "HBox(children=(HTML(value=''), FloatProgress(value=1.0, bar_style='info', layout=Layout(width='20px'), max=1.0…"
      ]
     },
     "metadata": {},
     "output_type": "display_data"
    },
    {
     "name": "stdout",
     "output_type": "stream",
     "text": [
      "\n"
     ]
    },
    {
     "data": {
      "application/vnd.jupyter.widget-view+json": {
       "model_id": "7ce99c9f4b9643518dd79e52fbfd62aa",
       "version_major": 2,
       "version_minor": 0
      },
      "text/plain": [
       "HBox(children=(HTML(value=''), FloatProgress(value=1.0, bar_style='info', layout=Layout(width='20px'), max=1.0…"
      ]
     },
     "metadata": {},
     "output_type": "display_data"
    },
    {
     "name": "stdout",
     "output_type": "stream",
     "text": [
      "\n",
      "Epoch 49/50 \t Learning rate: 0.00038 \t Train total_loss: 0.00255 \t * Val_PSNR: 25.91 \t Time: 111.6727 \t Total time: 111.6727\n",
      "\n",
      "Epoch 50/50\n"
     ]
    },
    {
     "data": {
      "application/vnd.jupyter.widget-view+json": {
       "model_id": "c244a7d813524d6393b54b249bb2f675",
       "version_major": 2,
       "version_minor": 0
      },
      "text/plain": [
       "HBox(children=(HTML(value=''), FloatProgress(value=1.0, bar_style='info', layout=Layout(width='20px'), max=1.0…"
      ]
     },
     "metadata": {},
     "output_type": "display_data"
    },
    {
     "name": "stdout",
     "output_type": "stream",
     "text": [
      "\n"
     ]
    },
    {
     "data": {
      "application/vnd.jupyter.widget-view+json": {
       "model_id": "8ab71a1aee624e1e9d103cbf4f4c1501",
       "version_major": 2,
       "version_minor": 0
      },
      "text/plain": [
       "HBox(children=(HTML(value=''), FloatProgress(value=1.0, bar_style='info', layout=Layout(width='20px'), max=1.0…"
      ]
     },
     "metadata": {},
     "output_type": "display_data"
    },
    {
     "name": "stdout",
     "output_type": "stream",
     "text": [
      "\n",
      "Epoch 50/50 \t Learning rate: 0.00038 \t Train total_loss: 0.00252 \t * Val_PSNR: 25.96 \t Time: 111.9416 \t Total time: 111.9416\n",
      "\n"
     ]
    }
   ],
   "source": [
    "if __name__ == '__main__':\n",
    "    train(args)"
   ]
  },
  {
   "cell_type": "markdown",
   "metadata": {},
   "source": [
    "# Testing"
   ]
  },
  {
   "cell_type": "code",
   "execution_count": 40,
   "metadata": {},
   "outputs": [],
   "source": [
    "def load_params(args):\n",
    "    path_params_log = os.path.join(args.save_dir, args.exp_name, \"params.txt\")\n",
    "    with open(path_params_log, 'r') as f:\n",
    "        str_params = f.read().strip()\n",
    "    return ast.literal_eval(str_params)"
   ]
  },
  {
   "cell_type": "code",
   "execution_count": 41,
   "metadata": {},
   "outputs": [],
   "source": [
    "def test(args):\n",
    "\n",
    "    params = load_params(args)   \n",
    "    if params['multi']:   # check multi parameter to see whether to use multi model or single\n",
    "        test_model = model.MultiScaleNet(num_features=params['num_features'], num_resblocks=params['num_resblocks'],\n",
    "                                       is_skip=params['skip'])\n",
    "    else:\n",
    "        test_model = model.SingleScaleNet(num_features=params['num_features'], num_resblocks=params['num_resblocks'],\n",
    "                                       is_skip=params['skip'])\n",
    "    \n",
    "    # load the saved model\n",
    "    test_model.load_state_dict(torch.load(os.path.join(args.save_dir, args.exp_name, 'model', 'model_lastest.pt')))\n",
    "    test_model.cuda()\n",
    "    test_model.eval()\n",
    "    \n",
    "    testdataloader = get_testdataset(args)\n",
    "    \n",
    "    if args.save:\n",
    "        output_dir = os.path.join(args.save_dir, args.exp_name, 'test_output')\n",
    "        if not os.path.exists(output_dir):\n",
    "            os.mkdir(output_dir)\n",
    "\n",
    "    log_file = open(os.path.join(output_dir, 'test_logs.txt'), 'w')\n",
    "\n",
    "    total_psnr, total_ssim, total_mssim, count = 0, 0, 0, 0\n",
    "    for batch, images in enumerate(testdataloader):\n",
    "        count += 1\n",
    "        with torch.no_grad():\n",
    "            input_b1 = Variable(images['input_b1'].cuda())\n",
    "            target_s1 = Variable(images['target_s1'].cuda())\n",
    "\n",
    "            if params['multi']:\n",
    "                input_b2 = Variable(images['input_b2'].cuda())\n",
    "                input_b3 = Variable(images['input_b3'].cuda())\n",
    "                output_l1, _, _ = test_model((input_b1, input_b2, input_b3))\n",
    "            else:\n",
    "                output_l1 = test_model(input_b1)\n",
    "\n",
    "        output_l1 = tensor_to_rgb(output_l1)\n",
    "        target_s1 = tensor_to_rgb(target_s1)\n",
    "\n",
    "        p = args.padding\n",
    "        if p != 0:\n",
    "            img1 = output_l1[:, p:-p, p:-p].squeeze()\n",
    "            img2 = target_s1[:, p:-p, p:-p].squeeze()\n",
    "        else:\n",
    "            img1 = output_l1.squeeze()\n",
    "            img2 = target_s1.squeeze()\n",
    "\n",
    "        # Calculate psnr, ssim, mssim using libraries\n",
    "        with torch.no_grad():\n",
    "            mssim = compare_mssim(torch.from_numpy(img1[None]).cuda(),\n",
    "                                  torch.from_numpy(img2[None]).cuda()).cpu().numpy()\n",
    "            ssim = compare_ssim(torch.from_numpy(img1[None] / 255.0).cuda(),\n",
    "                                torch.from_numpy(img2[None] / 255.0).cuda()).cpu().numpy()\n",
    "        psnr = compare_psnr(img1, img2)\n",
    "\n",
    "        total_psnr += psnr\n",
    "        total_ssim += ssim\n",
    "        total_mssim += mssim\n",
    "\n",
    "        if args.save:\n",
    "            out = Image.fromarray(np.uint8(output_l1.transpose(1, 2, 0)), mode='RGB')  # output of SRCNN\n",
    "            out.save(os.path.join(output_dir, 'DB_{:04d}.png'.format(count)))\n",
    "\n",
    "        log = 'Image {:04d} - PSNR {:.2f} - SSIM {:.4f} - MSSIM {:.4f}'.format(count, psnr, ssim, mssim)\n",
    "        print(log)\n",
    "        log_file.write(log + \"\\n\")\n",
    "\n",
    "    avg_psnr = total_psnr / (batch + 1)\n",
    "    avg_ssim = total_ssim / (batch + 1)\n",
    "    avg_mssim = total_mssim / (batch + 1)\n",
    "    log = 'Average - PSNR {:.2f} dB - SSIM {:.4f} - MSSIM {:.4f}'.format(avg_psnr, avg_ssim, avg_mssim)\n",
    "    print(log)\n",
    "    log_file.write(log + \"\\n\")\n",
    "    log_file.close()\n",
    "\n",
    "    if args.save:\n",
    "        print('{:04d} images saved at {}'.format(count, output_dir))\n"
   ]
  },
  {
   "cell_type": "code",
   "execution_count": 42,
   "metadata": {},
   "outputs": [
    {
     "name": "stdout",
     "output_type": "stream",
     "text": [
      "Image 0001 - PSNR 25.55 - SSIM 0.8693 - MSSIM 0.8986\n",
      "Image 0002 - PSNR 24.76 - SSIM 0.7401 - MSSIM 0.8574\n",
      "Image 0003 - PSNR 24.76 - SSIM 0.7822 - MSSIM 0.8207\n",
      "Average - PSNR 25.02 dB - SSIM 0.7972 - MSSIM 0.8589\n",
      "0003 images saved at /home/trojan/Desktop/Image restoration/Homeworks/HW2/result/Net_single+skip/report_images\n"
     ]
    }
   ],
   "source": [
    "if __name__ == '__main__':\n",
    "    test(args)"
   ]
  },
  {
   "cell_type": "code",
   "execution_count": null,
   "metadata": {},
   "outputs": [],
   "source": []
  }
 ],
 "metadata": {
  "kernelspec": {
   "display_name": "Python 3",
   "language": "python",
   "name": "python3"
  },
  "language_info": {
   "codemirror_mode": {
    "name": "ipython",
    "version": 3
   },
   "file_extension": ".py",
   "mimetype": "text/x-python",
   "name": "python",
   "nbconvert_exporter": "python",
   "pygments_lexer": "ipython3",
   "version": "3.6.9"
  }
 },
 "nbformat": 4,
 "nbformat_minor": 4
}
