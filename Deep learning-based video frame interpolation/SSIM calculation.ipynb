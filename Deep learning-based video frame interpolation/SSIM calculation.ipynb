{
 "cells": [
  {
   "cell_type": "code",
   "execution_count": 19,
   "metadata": {},
   "outputs": [],
   "source": [
    "import torch\n",
    "import numpy as np\n",
    "import glob\n",
    "import cv2\n",
    "import os\n",
    "import matplotlib.pyplot as plt\n",
    "\n",
    "from skimage import data, img_as_float\n",
    "from skimage.metrics import structural_similarity as ssim\n",
    "from skimage.metrics import mean_squared_error\n"
   ]
  },
  {
   "cell_type": "code",
   "execution_count": 11,
   "metadata": {},
   "outputs": [],
   "source": [
    "# Organzied the images in new folders and modified names for convenience\n",
    "\n",
    "PATH_TARGETS = '/home/trojan/Desktop/Image restoration/Homeworks/HW3/dataset/Dataet_VFI_HW3/ucf101_targets'\n",
    "PATH_OUTPUT = '/home/trojan/Desktop/Image restoration/Homeworks/HW3/result/ucf101_outputs'\n",
    "\n",
    "target_images = []\n",
    "output_images = []\n",
    "\n",
    "for target_name in glob.glob(PATH_TARGETS + '/*.png'):\n",
    "    target_images.append(target_name)\n",
    "    \n",
    "for output_name in glob.glob(PATH_OUTPUT + '/*.png'):\n",
    "    output_images.append(output_name)\n",
    "    "
   ]
  },
  {
   "cell_type": "code",
   "execution_count": 12,
   "metadata": {},
   "outputs": [
    {
     "name": "stdout",
     "output_type": "stream",
     "text": [
      "['/home/trojan/Desktop/Image restoration/Homeworks/HW3/dataset/Dataet_VFI_HW3/ucf101_targets/20.png', '/home/trojan/Desktop/Image restoration/Homeworks/HW3/dataset/Dataet_VFI_HW3/ucf101_targets/15.png', '/home/trojan/Desktop/Image restoration/Homeworks/HW3/dataset/Dataet_VFI_HW3/ucf101_targets/13.png', '/home/trojan/Desktop/Image restoration/Homeworks/HW3/dataset/Dataet_VFI_HW3/ucf101_targets/11.png', '/home/trojan/Desktop/Image restoration/Homeworks/HW3/dataset/Dataet_VFI_HW3/ucf101_targets/14.png', '/home/trojan/Desktop/Image restoration/Homeworks/HW3/dataset/Dataet_VFI_HW3/ucf101_targets/9.png', '/home/trojan/Desktop/Image restoration/Homeworks/HW3/dataset/Dataet_VFI_HW3/ucf101_targets/21.png', '/home/trojan/Desktop/Image restoration/Homeworks/HW3/dataset/Dataet_VFI_HW3/ucf101_targets/16.png', '/home/trojan/Desktop/Image restoration/Homeworks/HW3/dataset/Dataet_VFI_HW3/ucf101_targets/7.png', '/home/trojan/Desktop/Image restoration/Homeworks/HW3/dataset/Dataet_VFI_HW3/ucf101_targets/10.png', '/home/trojan/Desktop/Image restoration/Homeworks/HW3/dataset/Dataet_VFI_HW3/ucf101_targets/6.png', '/home/trojan/Desktop/Image restoration/Homeworks/HW3/dataset/Dataet_VFI_HW3/ucf101_targets/3.png', '/home/trojan/Desktop/Image restoration/Homeworks/HW3/dataset/Dataet_VFI_HW3/ucf101_targets/17.png', '/home/trojan/Desktop/Image restoration/Homeworks/HW3/dataset/Dataet_VFI_HW3/ucf101_targets/18.png', '/home/trojan/Desktop/Image restoration/Homeworks/HW3/dataset/Dataet_VFI_HW3/ucf101_targets/8.png', '/home/trojan/Desktop/Image restoration/Homeworks/HW3/dataset/Dataet_VFI_HW3/ucf101_targets/12.png', '/home/trojan/Desktop/Image restoration/Homeworks/HW3/dataset/Dataet_VFI_HW3/ucf101_targets/4.png', '/home/trojan/Desktop/Image restoration/Homeworks/HW3/dataset/Dataet_VFI_HW3/ucf101_targets/19.png', '/home/trojan/Desktop/Image restoration/Homeworks/HW3/dataset/Dataet_VFI_HW3/ucf101_targets/1.png', '/home/trojan/Desktop/Image restoration/Homeworks/HW3/dataset/Dataet_VFI_HW3/ucf101_targets/2.png', '/home/trojan/Desktop/Image restoration/Homeworks/HW3/dataset/Dataet_VFI_HW3/ucf101_targets/5.png']\n",
      "['/home/trojan/Desktop/Image restoration/Homeworks/HW3/result/ucf101_outputs/20.png', '/home/trojan/Desktop/Image restoration/Homeworks/HW3/result/ucf101_outputs/15.png', '/home/trojan/Desktop/Image restoration/Homeworks/HW3/result/ucf101_outputs/13.png', '/home/trojan/Desktop/Image restoration/Homeworks/HW3/result/ucf101_outputs/11.png', '/home/trojan/Desktop/Image restoration/Homeworks/HW3/result/ucf101_outputs/14.png', '/home/trojan/Desktop/Image restoration/Homeworks/HW3/result/ucf101_outputs/9.png', '/home/trojan/Desktop/Image restoration/Homeworks/HW3/result/ucf101_outputs/21.png', '/home/trojan/Desktop/Image restoration/Homeworks/HW3/result/ucf101_outputs/16.png', '/home/trojan/Desktop/Image restoration/Homeworks/HW3/result/ucf101_outputs/7.png', '/home/trojan/Desktop/Image restoration/Homeworks/HW3/result/ucf101_outputs/10.png', '/home/trojan/Desktop/Image restoration/Homeworks/HW3/result/ucf101_outputs/6.png', '/home/trojan/Desktop/Image restoration/Homeworks/HW3/result/ucf101_outputs/3.png', '/home/trojan/Desktop/Image restoration/Homeworks/HW3/result/ucf101_outputs/17.png', '/home/trojan/Desktop/Image restoration/Homeworks/HW3/result/ucf101_outputs/18.png', '/home/trojan/Desktop/Image restoration/Homeworks/HW3/result/ucf101_outputs/8.png', '/home/trojan/Desktop/Image restoration/Homeworks/HW3/result/ucf101_outputs/12.png', '/home/trojan/Desktop/Image restoration/Homeworks/HW3/result/ucf101_outputs/4.png', '/home/trojan/Desktop/Image restoration/Homeworks/HW3/result/ucf101_outputs/19.png', '/home/trojan/Desktop/Image restoration/Homeworks/HW3/result/ucf101_outputs/1.png', '/home/trojan/Desktop/Image restoration/Homeworks/HW3/result/ucf101_outputs/2.png', '/home/trojan/Desktop/Image restoration/Homeworks/HW3/result/ucf101_outputs/5.png']\n"
     ]
    }
   ],
   "source": [
    "print(target_images)\n",
    "print(output_images)"
   ]
  },
  {
   "cell_type": "code",
   "execution_count": 29,
   "metadata": {},
   "outputs": [
    {
     "name": "stdout",
     "output_type": "stream",
     "text": [
      "Images 0:\n",
      "0.966466823943449\n",
      "Images 1:\n",
      "0.9399745309164941\n",
      "Images 2:\n",
      "0.9968535043706869\n",
      "Images 3:\n",
      "0.9586972097520149\n",
      "Images 4:\n",
      "0.9767786584175869\n",
      "Images 5:\n",
      "0.9037413923596885\n",
      "Images 6:\n",
      "0.9937611795896505\n",
      "Images 7:\n",
      "0.6781956288574378\n",
      "Images 8:\n",
      "0.9632229529539892\n",
      "Images 9:\n",
      "0.9512976358506137\n",
      "Images 10:\n",
      "0.969667620545276\n",
      "Images 11:\n",
      "0.9305417965735364\n",
      "Images 12:\n",
      "0.974180003141767\n",
      "Images 13:\n",
      "0.9800842350388161\n",
      "Images 14:\n",
      "0.9942014257678385\n",
      "Images 15:\n",
      "0.9861162295209353\n",
      "Images 16:\n",
      "0.9617308632795597\n",
      "Images 17:\n",
      "0.9663759334760201\n",
      "Images 18:\n",
      "0.9962249894381218\n",
      "Images 19:\n",
      "0.9356124851754223\n",
      "Images 20:\n",
      "0.9341703082502226\n",
      "\n",
      "Average SSIM: 0.9503759717723396\n"
     ]
    }
   ],
   "source": [
    "acc_ssim = 0\n",
    "\n",
    "log_dir = '/home/trojan/Desktop/Image restoration/Homeworks/HW3/result/logging'\n",
    "\n",
    "if os.path.exists(log_dir + '/log.txt'):\n",
    "    logfile = open(log_dir + '/log_ssim.txt', 'a')\n",
    "else:\n",
    "    logfile = open(log_dir + '/log_ssim.txt', 'w')\n",
    "    \n",
    "for i in range(len(output_images)):\n",
    "    img_target = cv2.imread(target_images[i])\n",
    "    img_output = cv2.imread(output_images[i])\n",
    "\n",
    "    SSIM = ssim(img_target, img_output, multichannel=True)\n",
    "    acc_ssim += SSIM\n",
    "    log = 'Images {}:'.format(i) \n",
    "    print(log)\n",
    "    logfile.write(log + '\\n')\n",
    "    log = '{}'.format(SSIM)\n",
    "    print(SSIM)\n",
    "    logfile.write(log + '\\n\\n')\n",
    "    \n",
    "avg_ssim = acc_ssim/len(output_images)\n",
    "log = '\\n' + 'Average SSIM: {}'.format(avg_ssim)\n",
    "print(log)\n",
    "\n",
    "logfile.write(log)\n",
    "logfile.close()\n"
   ]
  },
  {
   "cell_type": "code",
   "execution_count": null,
   "metadata": {},
   "outputs": [],
   "source": []
  }
 ],
 "metadata": {
  "kernelspec": {
   "display_name": "Python 3",
   "language": "python",
   "name": "python3"
  },
  "language_info": {
   "codemirror_mode": {
    "name": "ipython",
    "version": 3
   },
   "file_extension": ".py",
   "mimetype": "text/x-python",
   "name": "python",
   "nbconvert_exporter": "python",
   "pygments_lexer": "ipython3",
   "version": "3.6.9"
  }
 },
 "nbformat": 4,
 "nbformat_minor": 4
}
