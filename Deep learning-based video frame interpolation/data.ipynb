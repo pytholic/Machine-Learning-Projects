{
 "cells": [
  {
   "cell_type": "code",
   "execution_count": 1,
   "metadata": {},
   "outputs": [],
   "source": [
    "import numpy as np\n",
    "from os import listdir\n",
    "from PIL import Image\n",
    "from os.path import join, isdir\n",
    "from torch.utils.data import Dataset\n",
    "from torchvision import transforms\n",
    "import os\n",
    "import glob"
   ]
  },
  {
   "cell_type": "code",
   "execution_count": 2,
   "metadata": {},
   "outputs": [],
   "source": [
    "class triplet_train(Dataset):\n",
    "    \"\"\"\n",
    "    Reads all triplet set of frames in a directory.\n",
    "    Each triplet set contains frame 1, 2, 3.\n",
    "    Each image is named im1.png, im2.png, im3.png.\n",
    "    Frame 1, 3 are the input and Frame 2 is the output.\n",
    "    \"\"\"\n",
    "\n",
    "    def __init__(self, in_dir, resize=None):\n",
    "        if resize is not None:\n",
    "            self.transform = transforms.Compose([\n",
    "                transforms.Resize(resize),\n",
    "                transforms.ToTensor()\n",
    "            ])\n",
    "        else:\n",
    "            self.transform = transforms.Compose([\n",
    "                transforms.ToTensor()\n",
    "            ])\n",
    "        \n",
    "        self.sub_folders = [(in_dir + '/' + f) for f in listdir(in_dir)]\n",
    "        self.input_triplets = []\n",
    "        for folder in self.sub_folders:\n",
    "            self.input_triplets += [(folder + '/' + f) for f in listdir(folder)]\n",
    "        \n",
    "        self.input_triplets = np.array(self.input_triplets)\n",
    "        self.data_len = len(self.input_triplets)\n",
    "        \n",
    "    def __getitem__(self, index):\n",
    "        frame1 = self.transform(Image.open(self.input_triplets[index] + \"/im1.png\"))\n",
    "        frame2 = self.transform(Image.open(self.input_triplets[index] + \"/im2.png\"))\n",
    "        frame3 = self.transform(Image.open(self.input_triplets[index] + \"/im3.png\"))\n",
    "\n",
    "        return frame1, frame2, frame3\n",
    "\n",
    "    def __len__(self):\n",
    "        return self.data_len"
   ]
  },
  {
   "cell_type": "code",
   "execution_count": 163,
   "metadata": {},
   "outputs": [],
   "source": [
    "class triplet_test(Dataset):\n",
    "    \"\"\"\n",
    "    Reads all triplet set of frames in test directory.\n",
    "    Each triplet set contains frame 1, 2, 3.\n",
    "    Each image is named im1.png, im2.png, im3.png.\n",
    "    Frame 1, 3 are the input and Frame 2 is the ground truth.\n",
    "    \"\"\"\n",
    "\n",
    "    def __init__(self, db_dir, resize=None):\n",
    "        if resize is not None:\n",
    "            self.transform = transforms.Compose([\n",
    "                transforms.Resize(resize),\n",
    "                transforms.ToTensor()\n",
    "            ])\n",
    "        else:\n",
    "            self.transform = transforms.Compose([\n",
    "                transforms.ToTensor()\n",
    "            ])\n",
    "        \n",
    "        #sub_folders_list = os.listdir(sub_folder)\n",
    "        self.triplet_list = np.array([(db_dir + '/' + f) for f in listdir(db_dir)])\n",
    "        self.data_len = len(self.triplet_list)\n",
    "\n",
    "    def __getitem__(self, index):\n",
    "        frame1 = self.transform(Image.open(self.triplet_list[index] + \"/frame0.png\"))\n",
    "        gt = self.transform(Image.open(self.triplet_list[index] + \"/frame1.png\"))\n",
    "        frame3 = self.transform(Image.open(self.triplet_list[index] + \"/frame2.png\"))\n",
    "\n",
    "        return frame1, gt, frame3\n",
    "    \n",
    "    def __len__(self):\n",
    "        return self.data_len"
   ]
  }
 ],
 "metadata": {
  "kernelspec": {
   "display_name": "Python 3",
   "language": "python",
   "name": "python3"
  },
  "language_info": {
   "codemirror_mode": {
    "name": "ipython",
    "version": 3
   },
   "file_extension": ".py",
   "mimetype": "text/x-python",
   "name": "python",
   "nbconvert_exporter": "python",
   "pygments_lexer": "ipython3",
   "version": "3.6.9"
  }
 },
 "nbformat": 4,
 "nbformat_minor": 4
}
