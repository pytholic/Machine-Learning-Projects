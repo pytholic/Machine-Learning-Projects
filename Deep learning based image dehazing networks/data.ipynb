{
 "cells": [
  {
   "cell_type": "code",
   "execution_count": 1,
   "metadata": {},
   "outputs": [],
   "source": [
    "import os\n",
    "import random\n",
    "import torch.utils.data as data\n",
    "from PIL import Image\n",
    "from torchvision import transforms\n",
    "from utils import rgb_to_tensor"
   ]
  },
  {
   "cell_type": "code",
   "execution_count": null,
   "metadata": {},
   "outputs": [],
   "source": [
    "def augmentation(input_image, target_image):\n",
    "    deg = random.choice([0, 90, 180, 270])\n",
    "    \n",
    "    if deg != 0:\n",
    "        input_image = transforms.functional.rotate(input_image, deg)\n",
    "        target_image = transforms.functional.rotate(target_image, deg)\n",
    "\n",
    "    return input_image, target_image"
   ]
  },
  {
   "cell_type": "code",
   "execution_count": null,
   "metadata": {},
   "outputs": [],
   "source": [
    "def extract_patch(input_image, gt_image):\n",
    "    width, height = input_image.size\n",
    "    if width >= 2048 and height >= 2048:\n",
    "        choice = random.choice([1, 2, 3])\n",
    "        if choice == 1:\n",
    "            px = py = 1024\n",
    "        elif choice == 2:\n",
    "            px = 1024\n",
    "            py = 2048\n",
    "        else:\n",
    "            px = py = 2048\n",
    "    else:\n",
    "        px = py = 1024\n",
    "    x = random.randrange(0, width - px + 1)\n",
    "    y = random.randrange(0, height - py + 1)\n",
    "    input_image = input_image.crop((x, y, x + px, y + py))\n",
    "    gt_image = gt_image.crop((x, y, x + px, y + py))\n",
    "    \n",
    "    if px > 1024 or py > 1024:\n",
    "        input_image = input_image.resize((1024, 1024))\n",
    "        gt_image = gt_image.resize((1024, 1024))\n",
    "    return input_image, gt_image\n",
    "\n",
    "def image_large(image_path):\n",
    "    width, height = Image.open(image_path).size\n",
    "    return width >= 1024 and height >= 1024"
   ]
  },
  {
   "cell_type": "code",
   "execution_count": null,
   "metadata": {},
   "outputs": [],
   "source": [
    "def get_paths(folder):\n",
    "    file_paths = []\n",
    "    for file_name in os.listdir(folder):\n",
    "        file_path = os.path.join(folder, file_name)\n",
    "        if image_large(file_path):\n",
    "            file_paths.append(file_path)\n",
    "    file_paths = sorted(file_paths)\n",
    "    return file_paths"
   ]
  },
  {
   "cell_type": "code",
   "execution_count": null,
   "metadata": {},
   "outputs": [],
   "source": [
    "class MyDataset(data.Dataset):\n",
    "    def __init__(self, dataDir, is_train=False):\n",
    "        super(MyDataset, self).__init__()\n",
    "        self.is_train = is_train\n",
    "        \n",
    "        I_hazyDir = os.path.join(dataDir, 'IndoorTrainHazy')\n",
    "        I_gtDir = os.path.join(dataDir, 'IndoorTrainGT')\n",
    "        O_hazyDir = os.path.join(dataDir, 'OutdoorTrainHazy')\n",
    "        O_gtDir = os.path.join(dataDir, 'OutdoorTrainHazy')\n",
    "        \n",
    "        self.input_paths = get_paths(I_hazyDir) + get_paths(O_hazyDir)\n",
    "        self.gt_paths = get_paths(I_gtDir) + get_paths(O_gtDir)\n",
    "        self.num_samples = len(self.input_paths)\n",
    "    \n",
    "    def form_image_pair(self, idx):\n",
    "        input_image = Image.open(self.input_paths[idx]).convert('RGB')\n",
    "        gt_image = Image.open(self.gt_paths[idx]).convert('RGB')\n",
    "\n",
    "        return input_image, gt_image\n",
    "    \n",
    "    def __getitem__(self, idx):\n",
    "        input_image, gt_image = self.form_image_pair(idx)\n",
    "\n",
    "        if self.is_train:\n",
    "            input_image, gt_image = extract_patch(input_image, gt_image)\n",
    "            input_image, gt_image = augmentation(input_image, gt_image)\n",
    "\n",
    "        input_image = rgb_to_tensor(input_image)\n",
    "        gt_image = rgb_to_tensor(gt_image)\n",
    "\n",
    "        return input_image, gt_image\n",
    "\n",
    "    def __len__(self):\n",
    "        return self.num_samples"
   ]
  }
 ],
 "metadata": {
  "kernelspec": {
   "display_name": "Python 3",
   "language": "python",
   "name": "python3"
  },
  "language_info": {
   "codemirror_mode": {
    "name": "ipython",
    "version": 3
   },
   "file_extension": ".py",
   "mimetype": "text/x-python",
   "name": "python",
   "nbconvert_exporter": "python",
   "pygments_lexer": "ipython3",
   "version": "3.6.9"
  }
 },
 "nbformat": 4,
 "nbformat_minor": 4
}
