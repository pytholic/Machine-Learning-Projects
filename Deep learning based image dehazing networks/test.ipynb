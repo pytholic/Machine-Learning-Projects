{
 "cells": [
  {
   "cell_type": "code",
   "execution_count": 1,
   "metadata": {},
   "outputs": [],
   "source": [
    "from model import Generator\n",
    "from PIL import Image\n",
    "from torch.autograd import Variable\n",
    "from utils import *\n",
    "from easydict import EasyDict as edict\n",
    "import glob\n",
    "import cv2\n",
    "from torchvision.utils import save_image as imwrite"
   ]
  },
  {
   "cell_type": "code",
   "execution_count": 2,
   "metadata": {},
   "outputs": [
    {
     "data": {
      "text/plain": [
       "True"
      ]
     },
     "execution_count": 2,
     "metadata": {},
     "output_type": "execute_result"
    }
   ],
   "source": [
    "#Check if gpu is available\n",
    "torch.cuda.is_available()"
   ]
  },
  {
   "cell_type": "code",
   "execution_count": 10,
   "metadata": {},
   "outputs": [],
   "source": [
    "args = edict()\n",
    "\n",
    "args.testImages = '/home/trojan/Desktop/Image restoration/Homeworks/HW4/dataset/Dehazing_datasets/OutdoorTestHazy/rescaled'\n",
    "args.outDir = '/home/trojan/Desktop/Image restoration/Homeworks/HW4/result/testing2/Outdoor'\n",
    "args.gpu = True \n",
    "args.model = '/home/trojan/Desktop/Image restoration/Homeworks/HW4/result/Net_dehaze/model/model_lastest.pt'"
   ]
  },
  {
   "cell_type": "code",
   "execution_count": 11,
   "metadata": {},
   "outputs": [],
   "source": [
    "#Basic Settings\n",
    "if args.gpu == 0:\n",
    "    os.environ[\"CUDA_DEVICE_ORDER\"] = \"PCI_BUS_ID\"\n",
    "    os.environ[\"CUDA_VISIBLE_DEVICES\"] = \"0\"\n",
    "elif args.gpu == 1:\n",
    "    os.environ[\"CUDA_DEVICE_ORDER\"] = \"PCI_BUS_ID\"\n",
    "    os.environ[\"CUDA_VISIBLE_DEVICES\"] = \"1\""
   ]
  },
  {
   "cell_type": "code",
   "execution_count": 12,
   "metadata": {},
   "outputs": [
    {
     "name": "stdout",
     "output_type": "stream",
     "text": [
      "cuda\n"
     ]
    }
   ],
   "source": [
    "#Check cuda device\n",
    "device = 'cuda' if torch.cuda.is_available() and args.gpu else 'cpu'\n",
    "print (device)"
   ]
  },
  {
   "cell_type": "code",
   "execution_count": 13,
   "metadata": {},
   "outputs": [],
   "source": [
    "def test(args):\n",
    "    my_model = Generator()\n",
    "    #my_model.cuda()\n",
    "    my_model.load_state_dict(torch.load(args.model))\n",
    "    my_model.eval()\n",
    "\n",
    "    output_dir = args.outDir\n",
    "    if not os.path.exists(output_dir):\n",
    "        os.mkdir(output_dir)\n",
    "\n",
    "    img_dir = args.testImages\n",
    "\n",
    "    test_images = []\n",
    "    for file_name in os.listdir(img_dir):\n",
    "        test_images.append(os.path.join(img_dir,file_name))\n",
    "        \n",
    "    image = Image.open(test_images[1]).convert('RGB')\n",
    "    #image = cv2.imread(img) \n",
    "    width, height = image.size\n",
    "    scale = 32\n",
    "    image = image.resize((width // scale * scale, height // scale * scale))\n",
    "    with torch.no_grad():\n",
    "        image = rgb_to_tensor(image)\n",
    "        image = image.unsqueeze(0)\n",
    "        #image = Variable(image.cuda())\n",
    "        output = my_model(image)\n",
    "    output = tensor_to_rgb(output)\n",
    "    out = Image.fromarray(np.uint8(output), mode='RGB')\n",
    "    out = out.resize((width, height), resample=Image.BICUBIC)\n",
    "    output_path = args.outDir\n",
    "    #cv2.imwrite(output_path + '{}.png'.format(n), out)\n",
    "    0\n",
    "    print('Image saved at ' + output_path)\n",
    "    \n",
    "    '''n = 0\n",
    "    for img in test_images:\n",
    "        image = Image.open(img).convert('RGB')\n",
    "        #image = cv2.imread(img) \n",
    "        width, height = image.size\n",
    "        scale = 32\n",
    "        image = image.resize((width // scale * scale, height // scale * scale))\n",
    "        with torch.no_grad():\n",
    "            image = rgb_to_tensor(image)\n",
    "            image = image.unsqueeze(0)\n",
    "            #image = Variable(image.cuda())\n",
    "            output = my_model(image)\n",
    "        output = tensor_to_rgb(output)\n",
    "        out = Image.fromarray(np.uint8(output), mode='RGB')\n",
    "        out = out.resize((width, height), resample=Image.BICUBIC)\n",
    "        output_path = os.path.join(args.outDir, os.path.basename(img_dir))\n",
    "        #cv2.imwrite(output_path + '{}.png'.format(n), out)\n",
    "        out.save(output_path + '{}.png'.format(n))\n",
    "        print('One image saved at ' + output_path)\n",
    "        n+=1'''"
   ]
  },
  {
   "cell_type": "code",
   "execution_count": 14,
   "metadata": {},
   "outputs": [
    {
     "name": "stdout",
     "output_type": "stream",
     "text": [
      "Image saved at /home/trojan/Desktop/Image restoration/Homeworks/HW4/result/testing2/Outdoor\n"
     ]
    }
   ],
   "source": [
    "if __name__ == '__main__':\n",
    "    test(args)"
   ]
  },
  {
   "cell_type": "code",
   "execution_count": null,
   "metadata": {},
   "outputs": [],
   "source": []
  }
 ],
 "metadata": {
  "kernelspec": {
   "display_name": "Python 3",
   "language": "python",
   "name": "python3"
  },
  "language_info": {
   "codemirror_mode": {
    "name": "ipython",
    "version": 3
   },
   "file_extension": ".py",
   "mimetype": "text/x-python",
   "name": "python",
   "nbconvert_exporter": "python",
   "pygments_lexer": "ipython3",
   "version": "3.6.9"
  }
 },
 "nbformat": 4,
 "nbformat_minor": 4
}
