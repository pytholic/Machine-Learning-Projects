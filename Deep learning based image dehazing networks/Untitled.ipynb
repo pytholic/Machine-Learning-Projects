{
 "cells": [
  {
   "cell_type": "code",
   "execution_count": null,
   "metadata": {},
   "outputs": [],
   "source": [
    "She is crazy af\n",
    "and mean\n",
    "and rude\n",
    "and so judgy\n",
    "SO WHAT\n",
    "\n",
    "See what I mean?\n",
    "                \n",
    "            ^^\n",
    "        not allowed to kiss me anymore\n",
    "        it got banned\n",
    "        i will be super strict to your religious restriction\n",
    "        \n",
    "        Ok that is even better!\n",
    "        \n",
    "        :*:*:*:*<3\n",
    "                        she ignored mee!!!\n",
    "                        MEAN."
   ]
  }
 ],
 "metadata": {
  "kernelspec": {
   "display_name": "Python 3",
   "language": "python",
   "name": "python3"
  },
  "language_info": {
   "codemirror_mode": {
    "name": "ipython",
    "version": 3
   },
   "file_extension": ".py",
   "mimetype": "text/x-python",
   "name": "python",
   "nbconvert_exporter": "python",
   "pygments_lexer": "ipython3",
   "version": "3.6.9"
  }
 },
 "nbformat": 4,
 "nbformat_minor": 4
}
